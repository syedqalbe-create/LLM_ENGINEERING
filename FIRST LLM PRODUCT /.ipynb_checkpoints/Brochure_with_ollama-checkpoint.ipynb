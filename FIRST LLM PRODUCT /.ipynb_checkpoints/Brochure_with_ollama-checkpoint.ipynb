{
 "cells": [
  {
   "cell_type": "code",
   "execution_count": 1,
   "id": "f4c24669-b717-4e03-a3b2-fc22898521d9",
   "metadata": {},
   "outputs": [],
   "source": [
    "import pandas as pd\n",
    "import numpy as np \n",
    "from bs4 import BeautifulSoup \n",
    "from IPython.display import Markdown, display, update_display\n",
    "import requests \n",
    "from typing import List"
   ]
  },
  {
   "cell_type": "code",
   "execution_count": 2,
   "id": "c3264854-9053-493b-8376-668eb437fd61",
   "metadata": {
    "scrolled": true
   },
   "outputs": [
    {
     "name": "stdout",
     "output_type": "stream",
     "text": [
      "{'model': 'llama3', 'created_at': '2025-08-19T11:06:04.879216567Z', 'response': \"Hussain (570-661 CE) was a revered Islamic saint, martyr, and grandson of the Prophet Muhammad. He played a crucial role in the early history of Islam and is considered one of the most important figures in Shia Islam.\\n\\nHussain ibn Ali was born in Medina, Arabia, to Imam Ali, the first Imam of Shia Islam, and Fatima, the daughter of the Prophet Muhammad. Hussain grew up in a family deeply rooted in Islamic values and became known for his piety, wisdom, and courage.\\n\\nIn 680 CE, Hussain led a caravan with his family and followers from Medina to Mecca, intending to perform the Hajj pilgrimage. However, he was confronted by the army of Yazid I, the Umayyad caliph who had seized power through treachery and usurpation. When Hussain refused to pledge allegiance to Yazid, a brutal battle ensued at Karbala, near modern-day Iraq.\\n\\nDespite being vastly outnumbered (around 72-100 men against an army of thousands), Hussain and his followers fought valiantly for several days before ultimately being defeated. On October 10, 680 CE, Hussain was beheaded, along with many members of his family, including his six-month-old son Ali al-Akbar.\\n\\nHussain's martyrdom is seen as a symbol of resistance against tyranny and oppression, and it has had a profound impact on Shia Islam. The event is commemorated annually during the Ashura ceremony, which takes place on the 10th day of the Islamic month of Muharram. It is considered a day of mourning, reflection, and remembrance.\\n\\nIn Sunni Islam, Hussain is also highly respected as a righteous and pious individual who sacrificed his life for his beliefs. His story has inspired countless Muslims across centuries, and he remains an iconic figure in Islamic history.\", 'done': True, 'done_reason': 'stop', 'context': [128006, 882, 128007, 271, 15546, 374, 80081, 467, 30, 128009, 128006, 78191, 128007, 271, 39, 1892, 467, 320, 18712, 12, 24132, 27809, 8, 574, 264, 85761, 15558, 36959, 11, 90408, 11, 323, 66955, 315, 279, 37728, 36831, 13, 1283, 6476, 264, 16996, 3560, 304, 279, 4216, 3925, 315, 15256, 323, 374, 6646, 832, 315, 279, 1455, 3062, 12678, 304, 78509, 15256, 382, 39, 1892, 467, 19185, 77, 14925, 574, 9405, 304, 85266, 11, 23931, 11, 311, 90912, 14925, 11, 279, 1176, 90912, 315, 78509, 15256, 11, 323, 26417, 7675, 11, 279, 10003, 315, 279, 37728, 36831, 13, 80081, 467, 14264, 709, 304, 264, 3070, 17693, 41976, 304, 15558, 2819, 323, 6244, 3967, 369, 813, 9115, 2676, 11, 24278, 11, 323, 25775, 382, 644, 220, 17814, 27809, 11, 80081, 467, 6197, 264, 74760, 449, 813, 3070, 323, 20723, 505, 85266, 311, 2206, 25445, 11, 85439, 311, 2804, 279, 84526, 73, 90413, 13, 4452, 11, 568, 574, 41782, 555, 279, 13695, 315, 89670, 307, 358, 11, 279, 549, 18864, 88, 329, 1652, 15619, 889, 1047, 31589, 2410, 1555, 4353, 613, 727, 323, 96188, 79, 367, 13, 3277, 80081, 467, 16436, 311, 36179, 68078, 311, 89670, 307, 11, 264, 28860, 8209, 96763, 520, 13528, 65, 6181, 11, 3221, 6617, 11477, 11340, 382, 20397, 1694, 53108, 85692, 291, 320, 20019, 220, 5332, 12, 1041, 3026, 2403, 459, 13695, 315, 9214, 705, 80081, 467, 323, 813, 20723, 21095, 1062, 5485, 398, 369, 3892, 2919, 1603, 13967, 1694, 24164, 13, 1952, 6664, 220, 605, 11, 220, 17814, 27809, 11, 80081, 467, 574, 387, 63600, 11, 3235, 449, 1690, 3697, 315, 813, 3070, 11, 2737, 813, 4848, 23086, 6418, 4538, 14925, 453, 6830, 74, 2308, 382, 39, 1892, 467, 596, 90408, 5717, 374, 3970, 439, 264, 7891, 315, 13957, 2403, 78001, 323, 47748, 11, 323, 433, 706, 1047, 264, 28254, 5536, 389, 78509, 15256, 13, 578, 1567, 374, 81154, 660, 30171, 2391, 279, 14937, 5808, 22260, 11, 902, 5097, 2035, 389, 279, 220, 605, 339, 1938, 315, 279, 15558, 2305, 315, 386, 12825, 1138, 309, 13, 1102, 374, 6646, 264, 1938, 315, 76350, 11, 22599, 11, 323, 1323, 72669, 382, 644, 56110, 15256, 11, 80081, 467, 374, 1101, 7701, 31387, 439, 264, 42805, 323, 281, 1245, 3927, 889, 67904, 813, 2324, 369, 813, 21463, 13, 5414, 3446, 706, 14948, 28701, 20071, 4028, 24552, 11, 323, 568, 8625, 459, 27373, 7216, 304, 15558, 3925, 13], 'total_duration': 108266877943, 'load_duration': 21884640761, 'prompt_eval_count': 15, 'prompt_eval_duration': 15275000000, 'eval_count': 384, 'eval_duration': 71088000000}\n"
     ]
    }
   ],
   "source": [
    "import requests\n",
    "\n",
    "response = requests.post(\n",
    "    'http://localhost:11434/api/generate',\n",
    "    json={\n",
    "        \"model\": \"llama3\",\n",
    "        \"prompt\": \"Who is Hussain?\",\n",
    "        \"stream\": False\n",
    "    }\n",
    ")\n",
    "\n",
    "# Print the full response to see what's inside\n",
    "data = response.json()\n",
    "print(data)\n"
   ]
  },
  {
   "cell_type": "code",
   "execution_count": 3,
   "id": "aa876802-abe3-45b9-ad75-2ac3b9b364dd",
   "metadata": {},
   "outputs": [],
   "source": [
    "headers = {\n",
    "    \"User-Agent\": \"Mozilla/5.0 (Windows NT 10.0; Win64; x64) AppleWebKit/537.36 (KHTML, like Gecko) Chrome/117.0.0.0 Safari/537.36\"\n",
    "}\n",
    "\n",
    "class Website:\n",
    "    url: str\n",
    "    \n",
    "    def __init__(self, url):\n",
    "        self.url = url\n",
    "        response = requests.get(url, headers=headers)\n",
    "        self.body = response.content\n",
    "        soup = BeautifulSoup(self.body, 'html.parser')\n",
    "        \n",
    "        self.title = soup.title.string if soup.title else None\n",
    "        print(self.title if self.title else \"No title found\")\n",
    "        \n",
    "        if soup.body:\n",
    "            for irrelevant in soup.body([\"script\", \"style\", \"img\", \"input\"]):\n",
    "                irrelevant.decompose()\n",
    "            self.text = soup.body.get_text(separator=\"\\n\", strip=True)\n",
    "        else:\n",
    "            self.text = \"\"\n",
    "        \n",
    "      \n",
    "        links = [link.get('href') for link in soup.find_all('a')]\n",
    "        self.links = [link for link in links if link]\n",
    "\n",
    "    def get_contents(self):\n",
    "        return f\"Webpage Title:\\n{self.title}\\nWebpage Contents:\\n{self.text}\\n\\n\"\n",
    "\n",
    "\n",
    "\n"
   ]
  },
  {
   "cell_type": "code",
   "execution_count": 4,
   "id": "3a0386bc-4570-4291-9197-5a5b9979f52f",
   "metadata": {},
   "outputs": [
    {
     "name": "stdout",
     "output_type": "stream",
     "text": [
      "Home - Edward Donner\n"
     ]
    },
    {
     "data": {
      "text/plain": [
       "['https://edwarddonner.com/',\n",
       " 'https://edwarddonner.com/connect-four/',\n",
       " 'https://edwarddonner.com/outsmart/',\n",
       " 'https://edwarddonner.com/about-me-and-about-nebula/',\n",
       " 'https://edwarddonner.com/posts/',\n",
       " 'https://edwarddonner.com/',\n",
       " 'https://news.ycombinator.com',\n",
       " 'https://nebula.io/?utm_source=ed&utm_medium=referral',\n",
       " 'https://www.prnewswire.com/news-releases/wynden-stark-group-acquires-nyc-venture-backed-tech-startup-untapt-301269512.html',\n",
       " 'https://patents.google.com/patent/US20210049536A1/',\n",
       " 'https://www.linkedin.com/in/eddonner/',\n",
       " 'https://edwarddonner.com/2025/05/28/connecting-my-courses-become-an-llm-expert-and-leader/',\n",
       " 'https://edwarddonner.com/2025/05/28/connecting-my-courses-become-an-llm-expert-and-leader/',\n",
       " 'https://edwarddonner.com/2025/05/18/2025-ai-executive-briefing/',\n",
       " 'https://edwarddonner.com/2025/05/18/2025-ai-executive-briefing/',\n",
       " 'https://edwarddonner.com/2025/04/21/the-complete-agentic-ai-engineering-course/',\n",
       " 'https://edwarddonner.com/2025/04/21/the-complete-agentic-ai-engineering-course/',\n",
       " 'https://edwarddonner.com/2025/01/23/llm-workshop-hands-on-with-agents-resources/',\n",
       " 'https://edwarddonner.com/2025/01/23/llm-workshop-hands-on-with-agents-resources/',\n",
       " 'https://edwarddonner.com/',\n",
       " 'https://edwarddonner.com/connect-four/',\n",
       " 'https://edwarddonner.com/outsmart/',\n",
       " 'https://edwarddonner.com/about-me-and-about-nebula/',\n",
       " 'https://edwarddonner.com/posts/',\n",
       " 'mailto:hello@mygroovydomain.com',\n",
       " 'https://www.linkedin.com/in/eddonner/',\n",
       " 'https://twitter.com/edwarddonner',\n",
       " 'https://www.facebook.com/edward.donner.52']"
      ]
     },
     "execution_count": 4,
     "metadata": {},
     "output_type": "execute_result"
    }
   ],
   "source": [
    "ed = Website(\"https://edwarddonner.com\")\n",
    "ed.links"
   ]
  },
  {
   "cell_type": "code",
   "execution_count": 5,
   "id": "152fd540-207d-4215-b189-4eee9992014d",
   "metadata": {},
   "outputs": [],
   "source": [
    "link_system_prompt = \"You are provided with a list of links found on a webpage. \\\n",
    "You are able to decide which of the links would be most relevant to include in a brochure about the company, \\\n",
    "such as links to an About page, or a Company page, or Careers/Jobs pages.\\n\"\n",
    "link_system_prompt += \"You should respond in JSON as in this example:\"\n",
    "link_system_prompt += \"\"\"\n",
    "{\n",
    "    \"links\": [\n",
    "        {\"type\": \"about page\", \"url\": \"https://full.url/goes/here/about\"},\n",
    "        {\"type\": \"careers page\", \"url\": \"https://another.full.url/careers\"}\n",
    "    ]\n",
    "}\n",
    "\"\"\""
   ]
  },
  {
   "cell_type": "code",
   "execution_count": 6,
   "id": "4e010e36-3c5d-4e00-9103-a8f34d882840",
   "metadata": {},
   "outputs": [
    {
     "name": "stdout",
     "output_type": "stream",
     "text": [
      "You are provided with a list of links found on a webpage. You are able to decide which of the links would be most relevant to include in a brochure about the company, such as links to an About page, or a Company page, or Careers/Jobs pages.\n",
      "You should respond in JSON as in this example:\n",
      "{\n",
      "    \"links\": [\n",
      "        {\"type\": \"about page\", \"url\": \"https://full.url/goes/here/about\"},\n",
      "        {\"type\": \"careers page\", \"url\": \"https://another.full.url/careers\"}\n",
      "    ]\n",
      "}\n",
      "\n"
     ]
    }
   ],
   "source": [
    "print(link_system_prompt)"
   ]
  },
  {
   "cell_type": "code",
   "execution_count": 7,
   "id": "e1b9487f-6430-4398-ab99-e84f467c7f11",
   "metadata": {},
   "outputs": [],
   "source": [
    "def get_links_user_prompt(website):\n",
    "    user_prompt = f\"Here is the list of links on the website of {website.url} - \"\n",
    "    user_prompt += \"please decide which of these are relevant web links for a brochure about the company, respond with the full https URL in JSON format. \\\n",
    "Do not include Terms of Service, Privacy, email links.\\n\"\n",
    "    user_prompt += \"Links (some might be relative links):\\n\"\n",
    "    user_prompt += \"\\n\".join(website.links)\n",
    "    return user_prompt\n"
   ]
  },
  {
   "cell_type": "code",
   "execution_count": 8,
   "id": "219886ca-698b-4d33-9fe8-b7ea4535933b",
   "metadata": {},
   "outputs": [
    {
     "name": "stdout",
     "output_type": "stream",
     "text": [
      "Here is the list of links on the website of https://edwarddonner.com - please decide which of these are relevant web links for a brochure about the company, respond with the full https URL in JSON format. Do not include Terms of Service, Privacy, email links.\n",
      "Links (some might be relative links):\n",
      "https://edwarddonner.com/\n",
      "https://edwarddonner.com/connect-four/\n",
      "https://edwarddonner.com/outsmart/\n",
      "https://edwarddonner.com/about-me-and-about-nebula/\n",
      "https://edwarddonner.com/posts/\n",
      "https://edwarddonner.com/\n",
      "https://news.ycombinator.com\n",
      "https://nebula.io/?utm_source=ed&utm_medium=referral\n",
      "https://www.prnewswire.com/news-releases/wynden-stark-group-acquires-nyc-venture-backed-tech-startup-untapt-301269512.html\n",
      "https://patents.google.com/patent/US20210049536A1/\n",
      "https://www.linkedin.com/in/eddonner/\n",
      "https://edwarddonner.com/2025/05/28/connecting-my-courses-become-an-llm-expert-and-leader/\n",
      "https://edwarddonner.com/2025/05/28/connecting-my-courses-become-an-llm-expert-and-leader/\n",
      "https://edwarddonner.com/2025/05/18/2025-ai-executive-briefing/\n",
      "https://edwarddonner.com/2025/05/18/2025-ai-executive-briefing/\n",
      "https://edwarddonner.com/2025/04/21/the-complete-agentic-ai-engineering-course/\n",
      "https://edwarddonner.com/2025/04/21/the-complete-agentic-ai-engineering-course/\n",
      "https://edwarddonner.com/2025/01/23/llm-workshop-hands-on-with-agents-resources/\n",
      "https://edwarddonner.com/2025/01/23/llm-workshop-hands-on-with-agents-resources/\n",
      "https://edwarddonner.com/\n",
      "https://edwarddonner.com/connect-four/\n",
      "https://edwarddonner.com/outsmart/\n",
      "https://edwarddonner.com/about-me-and-about-nebula/\n",
      "https://edwarddonner.com/posts/\n",
      "mailto:hello@mygroovydomain.com\n",
      "https://www.linkedin.com/in/eddonner/\n",
      "https://twitter.com/edwarddonner\n",
      "https://www.facebook.com/edward.donner.52\n"
     ]
    }
   ],
   "source": [
    "print(get_links_user_prompt(ed))"
   ]
  },
  {
   "cell_type": "markdown",
   "id": "a57e201f-4c23-4283-93fd-de1836b62557",
   "metadata": {},
   "source": [
    "def messages_for(website):\n",
    "    return [\n",
    "        {\"role\": \"system\", \"content\": link_system_prompt},\n",
    "        {\"role\": \"user\", \"content\": get_links_user_prompt(website)}\n",
    "    ]\n",
    "messages_for(ed)"
   ]
  },
  {
   "cell_type": "code",
   "execution_count": 27,
   "id": "60c41b8a-e633-4c01-8adc-32efa84c2199",
   "metadata": {},
   "outputs": [],
   "source": [
    "from rich.console import Console\n",
    "import requests\n",
    "from rich.markdown import Markdown\n",
    "console = Console()\n",
    "\n",
    "def summarize(url):\n",
    "    website = Website(url)\n",
    "    response = requests.post(\n",
    "        \"http://localhost:11434/api/chat\",\n",
    "        json={\n",
    "            \"model\": \"llama3\",\n",
    "            \"messages\": messages_for(website),\n",
    "            \"stream\": False\n",
    "        }\n",
    "    )\n",
    "    data = response.json()\n",
    "    return data['message']['content']\n",
    "    try:\n",
    "        # Convert model's JSON string into Python dict\n",
    "        parsed = json.loads(content)\n",
    "        return parsed   # returns {\"links\": [...]} as a Python dict\n",
    "    except json.JSONDecodeError:\n",
    "        # fallback in case model returns invalid JSON\n",
    "        return {\"error\": \"Model did not return valid JSON\", \"raw\": content}\n",
    "\n"
   ]
  },
  {
   "cell_type": "code",
   "execution_count": 28,
   "id": "0c4584de-875b-4b03-b9a4-9440572a277b",
   "metadata": {},
   "outputs": [
    {
     "name": "stdout",
     "output_type": "stream",
     "text": [
      "Home - Edward Donner\n"
     ]
    }
   ],
   "source": [
    "summary = summarize(\"https://edwarddonner.com\")"
   ]
  },
  {
   "cell_type": "code",
   "execution_count": 29,
   "id": "6fca97ea-77cd-4d32-a4ff-b2bb282cb508",
   "metadata": {},
   "outputs": [
    {
     "data": {
      "text/html": [
       "<pre style=\"white-space:pre;overflow-x:auto;line-height:normal;font-family:Menlo,'DejaVu Sans Mono',consolas,'Courier New',monospace\">Here are the relevant links for a brochure about Edward Donner and his company:                                    \n",
       "\n",
       "{ \"links\": [ {\"type\": \"about page\", \"url\": \"https://edwarddonner.com/about-me-and-about-nebula\"}, {\"type\": \"Company\n",
       "page\", \"url\": \"https://edwarddonner.com/\"}, {\"type\": \"Careers/Jobs page\", \"url\": null}, // no relevant link found  \n",
       "{\"type\": \"LinkedIn profile\", \"url\": \"https://www.linkedin.com/in/eddonner/\"} ] }                                   \n",
       "\n",
       "I have excluded the Terms of Service, Privacy, and email links as per your request.                                \n",
       "</pre>\n"
      ],
      "text/plain": [
       "Here are the relevant links for a brochure about Edward Donner and his company:                                    \n",
       "\n",
       "{ \"links\": [ {\"type\": \"about page\", \"url\": \"https://edwarddonner.com/about-me-and-about-nebula\"}, {\"type\": \"Company\n",
       "page\", \"url\": \"https://edwarddonner.com/\"}, {\"type\": \"Careers/Jobs page\", \"url\": null}, // no relevant link found  \n",
       "{\"type\": \"LinkedIn profile\", \"url\": \"https://www.linkedin.com/in/eddonner/\"} ] }                                   \n",
       "\n",
       "I have excluded the Terms of Service, Privacy, and email links as per your request.                                \n"
      ]
     },
     "metadata": {},
     "output_type": "display_data"
    }
   ],
   "source": [
    "md = Markdown(summary)\n",
    "console.print(md)"
   ]
  },
  {
   "cell_type": "markdown",
   "id": "fcbb8283-6ca4-4fbc-b770-fb4a8d546c70",
   "metadata": {},
   "source": [
    "<h1>NOW BROCHURE</h1>"
   ]
  },
  {
   "cell_type": "code",
   "execution_count": 35,
   "id": "a8b3d7a6-36f8-43d4-a04a-06616b5929c7",
   "metadata": {},
   "outputs": [],
   "source": [
    "def get_all_details(url):\n",
    "    result = \"landing page \\n\"\n",
    "    result += Website(url).get_contents()\n",
    "    links = summarize(url)\n",
    "\n",
    "    for link in links['links']:\n",
    "        result += f\"\\n\\n{link['type']}\\n\"\n",
    "        result += Website(link[\"url\"]).get_contents()\n",
    "    return result\n",
    "    "
   ]
  },
  {
   "cell_type": "code",
   "execution_count": 36,
   "id": "45d6ade6-d173-4a65-9427-cb1232c8d598",
   "metadata": {},
   "outputs": [
    {
     "name": "stdout",
     "output_type": "stream",
     "text": [
      "Home - Edward Donner\n",
      "Home - Edward Donner\n"
     ]
    },
    {
     "ename": "TypeError",
     "evalue": "string indices must be integers, not 'str'",
     "output_type": "error",
     "traceback": [
      "\u001b[0;31m---------------------------------------------------------------------------\u001b[0m",
      "\u001b[0;31mTypeError\u001b[0m                                 Traceback (most recent call last)",
      "Cell \u001b[0;32mIn[36], line 1\u001b[0m\n\u001b[0;32m----> 1\u001b[0m \u001b[38;5;28mprint\u001b[39m(\u001b[43mget_all_details\u001b[49m\u001b[43m(\u001b[49m\u001b[38;5;124;43m\"\u001b[39;49m\u001b[38;5;124;43mhttps://edwarddonner.com\u001b[39;49m\u001b[38;5;124;43m\"\u001b[39;49m\u001b[43m)\u001b[49m)\n",
      "Cell \u001b[0;32mIn[35], line 6\u001b[0m, in \u001b[0;36mget_all_details\u001b[0;34m(url)\u001b[0m\n\u001b[1;32m      3\u001b[0m result \u001b[38;5;241m+\u001b[39m\u001b[38;5;241m=\u001b[39m Website(url)\u001b[38;5;241m.\u001b[39mget_contents()\n\u001b[1;32m      4\u001b[0m links \u001b[38;5;241m=\u001b[39m summarize(url)\n\u001b[0;32m----> 6\u001b[0m \u001b[38;5;28;01mfor\u001b[39;00m link \u001b[38;5;129;01min\u001b[39;00m \u001b[43mlinks\u001b[49m\u001b[43m[\u001b[49m\u001b[38;5;124;43m'\u001b[39;49m\u001b[38;5;124;43mlinks\u001b[39;49m\u001b[38;5;124;43m'\u001b[39;49m\u001b[43m]\u001b[49m:\n\u001b[1;32m      7\u001b[0m     result \u001b[38;5;241m+\u001b[39m\u001b[38;5;241m=\u001b[39m \u001b[38;5;124mf\u001b[39m\u001b[38;5;124m\"\u001b[39m\u001b[38;5;130;01m\\n\u001b[39;00m\u001b[38;5;130;01m\\n\u001b[39;00m\u001b[38;5;132;01m{\u001b[39;00mlink[\u001b[38;5;124m'\u001b[39m\u001b[38;5;124mtype\u001b[39m\u001b[38;5;124m'\u001b[39m]\u001b[38;5;132;01m}\u001b[39;00m\u001b[38;5;130;01m\\n\u001b[39;00m\u001b[38;5;124m\"\u001b[39m\n\u001b[1;32m      8\u001b[0m     result \u001b[38;5;241m+\u001b[39m\u001b[38;5;241m=\u001b[39m Website(link[\u001b[38;5;124m\"\u001b[39m\u001b[38;5;124murl\u001b[39m\u001b[38;5;124m\"\u001b[39m])\u001b[38;5;241m.\u001b[39mget_contents()\n",
      "\u001b[0;31mTypeError\u001b[0m: string indices must be integers, not 'str'"
     ]
    }
   ],
   "source": [
    "print(get_all_details(\"https://edwarddonner.com\"))"
   ]
  },
  {
   "cell_type": "code",
   "execution_count": null,
   "id": "dec7ca3d-e120-4321-8ebb-e3ca7825a4b8",
   "metadata": {},
   "outputs": [],
   "source": [
    "system_prompt = \"You are an assistant that analyzes the contents of several relevant pages from a company website \\\n",
    "and creates a short brochure about the company for prospective customers, investors and recruits. Respond in markdown.\\\n",
    "Include details of company culture, customers and careers/jobs if you have the information.\""
   ]
  },
  {
   "cell_type": "code",
   "execution_count": null,
   "id": "09262f5c-54d5-4990-9a14-a84481a29da4",
   "metadata": {},
   "outputs": [],
   "source": [
    "def get_brochure_user_prompt(company_name, url):\n",
    "    user_prompt = f\"You are looking at a company called: {company_name}\\n\"\n",
    "    user_prompt += f\"Here are the contents of its landing page and other relevant pages; use this information to build a short brochure of the company in markdown.\\n\"\n",
    "    user_prompt += get_all_details(url)\n",
    "    user_prompt = user_prompt[:5_000] # Truncate if more than 5,000 characters\n",
    "    return user_prompt\n"
   ]
  }
 ],
 "metadata": {
  "kernelspec": {
   "display_name": "Python 3 (ipykernel)",
   "language": "python",
   "name": "python3"
  },
  "language_info": {
   "codemirror_mode": {
    "name": "ipython",
    "version": 3
   },
   "file_extension": ".py",
   "mimetype": "text/x-python",
   "name": "python",
   "nbconvert_exporter": "python",
   "pygments_lexer": "ipython3",
   "version": "3.12.3"
  }
 },
 "nbformat": 4,
 "nbformat_minor": 5
}
