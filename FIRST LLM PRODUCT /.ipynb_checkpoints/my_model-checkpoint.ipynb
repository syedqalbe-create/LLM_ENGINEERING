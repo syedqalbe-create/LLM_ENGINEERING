{
 "cells": [
  {
   "cell_type": "code",
   "execution_count": 1,
   "id": "7f92f9ae-f4d2-4ef8-9c54-5ae8678950c0",
   "metadata": {},
   "outputs": [],
   "source": [
    "import requests\n",
    "from bs4 import BeautifulSoup\n",
    "import os\n",
    "from IPython.display import Markdown, display, update_display\n",
    "from rich.console import Console\n",
    "from rich.markdown import Markdown\n",
    "console = Console()"
   ]
  },
  {
   "cell_type": "code",
   "execution_count": 9,
   "id": "0d8c6d40-d7ac-4768-be06-5ea6ac04c6af",
   "metadata": {},
   "outputs": [],
   "source": [
    "MODEL_LLAMA = 'llama3'"
   ]
  },
  {
   "cell_type": "code",
   "execution_count": 10,
   "id": "781ff9f6-51b4-4073-ab80-500c2eebe228",
   "metadata": {},
   "outputs": [],
   "source": [
    "system_prompt = \"\"\" you are an assitant that will answer my questions. The questions will be give to you, \n",
    "all you need to answer in the detail and simpler way so that it would be easy to understand\"\"\""
   ]
  },
  {
   "cell_type": "code",
   "execution_count": 12,
   "id": "ea4ac595-1738-4409-80c4-d34b1a223d79",
   "metadata": {},
   "outputs": [
    {
     "name": "stdin",
     "output_type": "stream",
     "text": [
      "ask the question?.....: what is tuples in python why do we use?\n"
     ]
    }
   ],
   "source": [
    "question = input(\"ask the question?.....:\")"
   ]
  },
  {
   "cell_type": "code",
   "execution_count": 13,
   "id": "2c07f1d1-11b8-4416-b75c-ad8c2dd0c06c",
   "metadata": {},
   "outputs": [],
   "source": [
    "user_prompt = \"you will be provided with the question \" + question"
   ]
  },
  {
   "cell_type": "code",
   "execution_count": 14,
   "id": "96b9098b-2178-47ac-a7b4-304d96905511",
   "metadata": {},
   "outputs": [],
   "source": [
    "messages = [\n",
    "    {\"role\": \"system\", \"content\": system_prompt},\n",
    "    {\"role\": \"user\", \"content\": user_prompt}\n",
    "]\n"
   ]
  },
  {
   "cell_type": "code",
   "execution_count": 16,
   "id": "4a71c119-4047-492f-8b8b-ed7f28468637",
   "metadata": {},
   "outputs": [
    {
     "name": "stdout",
     "output_type": "stream",
     "text": [
      "\n",
      "Model Answer:\n",
      "\n",
      "I'm here to help! I'll provide a detailed and simple answer to your question.\n",
      "\n",
      "**What are Tuples in Python?**\n",
      "\n",
      "In Python, a tuple (pronounced \"too-ple\") is an immutable data structure that stores a sequence of values. A tuple is similar to a list, but with one key difference: tuples cannot be modified once they're created. This means you can't add or remove elements from a tuple after it's been defined.\n",
      "\n",
      "**Why Do We Use Tuples?**\n",
      "\n",
      "There are several reasons why we use tuples in Python:\n",
      "\n",
      "1. **Immutability**: Since tuples are immutable, they can help prevent accidental changes to your data. This is particularly useful when working with sensitive data that should remain unchanged.\n",
      "2. **Performance**: Because tuples are implemented as arrays under the hood, they're often faster than lists for accessing elements by index.\n",
      "3. **Read-only Data**: Tuples are perfect for representing read-only data, such as a set of constants or a fixed sequence of values.\n",
      "4. **Unique Identifiers**: Tuples can be used as unique identifiers in your program, which is useful when you need to store and compare complex sets of data.\n",
      "5. **Returning Multiple Values from Functions**: In Python, tuples are often used to return multiple values from functions, making it easier to work with function results.\n",
      "\n",
      "**Example Usage**\n",
      "\n",
      "Here's a simple example that demonstrates the use of tuples:\n",
      "```python\n",
      "# Define a tuple\n",
      "my_tuple = (1, 2, 3)\n",
      "\n",
      "# Try to modify the tuple\n",
      "try:\n",
      "    my_tuple[0] = 10  # This will raise an error!\n",
      "except TypeError as e:\n",
      "    print(e)  # Output: 'tuple' object does not support item assignment'\n",
      "\n",
      "# Print the original tuple\n",
      "print(my_tuple)  # Output: (1, 2, 3)\n",
      "```\n",
      "In this example, we define a tuple `my_tuple` with three elements. We then try to modify the first element by assigning a new value, but Python raises a `TypeError` because tuples are immutable. Finally, we print the original tuple to demonstrate that it remains unchanged.\n",
      "\n",
      "I hope this helps! Let me know if you have any further questions.\n"
     ]
    }
   ],
   "source": [
    "response = requests.post(\n",
    "    \"http://localhost:11434/api/generate\",\n",
    "    json={\n",
    "        \"model\": \"llama3\",        # change if your model has a different name in ollama\n",
    "        \"prompt\": str(messages),  # convert messages list to string\n",
    "        \"stream\": False\n",
    "    }\n",
    ")\n",
    "\n",
    "# Step 4: Parse result\n",
    "data = response.json()\n",
    "print(\"\\nModel Answer:\\n\")\n",
    "print(data[\"response\"])"
   ]
  },
  {
   "cell_type": "code",
   "execution_count": null,
   "id": "4151830c-d70b-4269-b224-d67806323059",
   "metadata": {},
   "outputs": [],
   "source": []
  }
 ],
 "metadata": {
  "kernelspec": {
   "display_name": "Python 3 (ipykernel)",
   "language": "python",
   "name": "python3"
  },
  "language_info": {
   "codemirror_mode": {
    "name": "ipython",
    "version": 3
   },
   "file_extension": ".py",
   "mimetype": "text/x-python",
   "name": "python",
   "nbconvert_exporter": "python",
   "pygments_lexer": "ipython3",
   "version": "3.12.3"
  }
 },
 "nbformat": 4,
 "nbformat_minor": 5
}
