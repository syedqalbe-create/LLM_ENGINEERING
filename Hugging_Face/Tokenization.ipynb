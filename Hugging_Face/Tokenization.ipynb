{
 "cells": [
  {
   "cell_type": "markdown",
   "id": "a5d71d6b-6eee-46cc-8418-70de724dd407",
   "metadata": {},
   "source": [
    "<h1>AN OVERVIWE OF TOKENIZATION </h1>\n",
    "<h2>It shows how an LLM sees the prompt, how it encode then decode </h2>\n",
    "<H3>HERE IS THE LINK : </H3>"
   ]
  },
  {
   "cell_type": "markdown",
   "id": "1b411dc5-6191-41a2-977c-54d8810aaf17",
   "metadata": {},
   "source": [
    "LINK: https://colab.research.google.com/drive/1ZUCtbxC7FImaENmwpKx_5dzYmUby03Bv?usp=sharing"
   ]
  },
  {
   "cell_type": "code",
   "execution_count": null,
   "id": "1d382dc0-385f-4498-9710-2044feeb10b9",
   "metadata": {},
   "outputs": [],
   "source": []
  }
 ],
 "metadata": {
  "kernelspec": {
   "display_name": "Python 3 (ipykernel)",
   "language": "python",
   "name": "python3"
  },
  "language_info": {
   "codemirror_mode": {
    "name": "ipython",
    "version": 3
   },
   "file_extension": ".py",
   "mimetype": "text/x-python",
   "name": "python",
   "nbconvert_exporter": "python",
   "pygments_lexer": "ipython3",
   "version": "3.12.3"
  }
 },
 "nbformat": 4,
 "nbformat_minor": 5
}
