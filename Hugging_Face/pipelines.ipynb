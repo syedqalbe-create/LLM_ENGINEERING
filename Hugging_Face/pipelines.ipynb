{
 "cells": [
  {
   "cell_type": "markdown",
   "id": "f287d16d-9fa7-4504-a101-2478af288fe8",
   "metadata": {},
   "source": [
    "<h1>SO HERE WE ARE WITH PIPELINES</h1>\n",
    "<h2>using t4 a cloud GPU given by google collab </h2>\n",
    "<h3>here is the link : </h3>"
   ]
  },
  {
   "cell_type": "markdown",
   "id": "4c744006-134d-4fde-ab3d-257ab7b4fd10",
   "metadata": {},
   "source": [
    "LINK : https://colab.research.google.com/drive/15yXdTt4qb2nTyzgesVb-_S6mWwbQ-GSf?usp=sharing¶"
   ]
  },
  {
   "cell_type": "code",
   "execution_count": null,
   "id": "4aeaee80-e2c5-4619-88eb-db60900ca569",
   "metadata": {},
   "outputs": [],
   "source": []
  }
 ],
 "metadata": {
  "kernelspec": {
   "display_name": "Python 3 (ipykernel)",
   "language": "python",
   "name": "python3"
  },
  "language_info": {
   "codemirror_mode": {
    "name": "ipython",
    "version": 3
   },
   "file_extension": ".py",
   "mimetype": "text/x-python",
   "name": "python",
   "nbconvert_exporter": "python",
   "pygments_lexer": "ipython3",
   "version": "3.12.3"
  }
 },
 "nbformat": 4,
 "nbformat_minor": 5
}
