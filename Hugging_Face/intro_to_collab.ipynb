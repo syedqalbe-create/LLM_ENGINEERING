{
 "cells": [
  {
   "cell_type": "markdown",
   "id": "bde18ecf-4b42-42c4-9bf6-61d7111b4355",
   "metadata": {},
   "source": [
    "<h1>Intro To Google Collab</h1>"
   ]
  },
  {
   "cell_type": "markdown",
   "id": "ab9ad43f-b2db-407b-b8c0-511cbff473a4",
   "metadata": {},
   "source": [
    "<h2>here I used tesla4 that is GPU for fast computation but its a Introduction</h2>"
   ]
  },
  {
   "cell_type": "markdown",
   "id": "6af528cf-b995-4320-824f-c7608acb94a7",
   "metadata": {},
   "source": [
    "<h3>here is the link </h3>"
   ]
  },
  {
   "cell_type": "markdown",
   "id": "c3962f93-1065-4194-8693-b9786f3cc954",
   "metadata": {},
   "source": [
    "LINK: https://colab.research.google.com/drive/1Ox07nU1qU4szPMLO56CVpq9AQfiYMVT5?usp=sharing"
   ]
  },
  {
   "cell_type": "code",
   "execution_count": null,
   "id": "784e6245-101c-497d-a381-15fc348aa1ae",
   "metadata": {},
   "outputs": [],
   "source": []
  }
 ],
 "metadata": {
  "kernelspec": {
   "display_name": "Python 3 (ipykernel)",
   "language": "python",
   "name": "python3"
  },
  "language_info": {
   "codemirror_mode": {
    "name": "ipython",
    "version": 3
   },
   "file_extension": ".py",
   "mimetype": "text/x-python",
   "name": "python",
   "nbconvert_exporter": "python",
   "pygments_lexer": "ipython3",
   "version": "3.12.3"
  }
 },
 "nbformat": 4,
 "nbformat_minor": 5
}
