{
 "cells": [
  {
   "cell_type": "markdown",
   "id": "f11c695a-a2a4-4661-826a-286b4cfa8be1",
   "metadata": {},
   "source": [
    "<h1>QUANTIZATION </h1>\n",
    "<P1>Before we get start lets get to the concept that model is usually 32floatbit and we will in this\n",
    "folder quantize it into 4 bit!</P1>\n",
    "<p1> we will use differenet open source models and next day will be frontier plus open source!!</p1>"
   ]
  },
  {
   "cell_type": "markdown",
   "id": "1b2fd0d9-64ce-4760-95e5-d7c8f879725a",
   "metadata": {},
   "source": [
    "Link:https://colab.research.google.com/drive/1rAPHJaOJBSDCiS0mCwGblFRPpW8xeFjT?usp=sharing"
   ]
  },
  {
   "cell_type": "code",
   "execution_count": null,
   "id": "1f011cac-eb3e-4a68-8616-e18b10b3c0ec",
   "metadata": {},
   "outputs": [],
   "source": []
  }
 ],
 "metadata": {
  "kernelspec": {
   "display_name": "Python 3 (ipykernel)",
   "language": "python",
   "name": "python3"
  },
  "language_info": {
   "codemirror_mode": {
    "name": "ipython",
    "version": 3
   },
   "file_extension": ".py",
   "mimetype": "text/x-python",
   "name": "python",
   "nbconvert_exporter": "python",
   "pygments_lexer": "ipython3",
   "version": "3.12.3"
  }
 },
 "nbformat": 4,
 "nbformat_minor": 5
}
