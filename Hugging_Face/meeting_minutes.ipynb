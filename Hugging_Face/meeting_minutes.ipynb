{
 "cells": [
  {
   "cell_type": "markdown",
   "id": "9db044b6-b13c-4427-bc3d-1d956948419b",
   "metadata": {},
   "source": [
    "<h1>MINI PROJECT : MEETING MINUTES</h1>\n",
    "<h2>Using OPENAI MODEL WHISPER TO GENERATE MEETING MINUTES AND OPEN SOURCE MODEL TO DISPLAY </h2>\n",
    "<h3>using hugging face model LLAMA 3.1 </h3>"
   ]
  },
  {
   "cell_type": "markdown",
   "id": "8435ac74-6584-461d-ac49-427d2cbe17d2",
   "metadata": {},
   "source": [
    "Link : https://colab.research.google.com/drive/1VbihQH3XGzFoOYu3vvBfV698wqStu0HL?usp=sharing"
   ]
  },
  {
   "cell_type": "code",
   "execution_count": null,
   "id": "a0e49751-31f3-4fe0-ab03-14872db0fe39",
   "metadata": {},
   "outputs": [],
   "source": []
  }
 ],
 "metadata": {
  "kernelspec": {
   "display_name": "Python 3 (ipykernel)",
   "language": "python",
   "name": "python3"
  },
  "language_info": {
   "codemirror_mode": {
    "name": "ipython",
    "version": 3
   },
   "file_extension": ".py",
   "mimetype": "text/x-python",
   "name": "python",
   "nbconvert_exporter": "python",
   "pygments_lexer": "ipython3",
   "version": "3.12.3"
  }
 },
 "nbformat": 4,
 "nbformat_minor": 5
}
