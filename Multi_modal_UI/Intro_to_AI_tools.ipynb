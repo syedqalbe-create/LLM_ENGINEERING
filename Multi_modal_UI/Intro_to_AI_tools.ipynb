{
 "cells": [
  {
   "cell_type": "code",
   "execution_count": 100,
   "id": "9ef5d6be-cf59-421b-a202-f2f1fa636a9f",
   "metadata": {},
   "outputs": [],
   "source": [
    "import os\n",
    "import requests as req\n",
    "from bs4 import BeautifulSoup\n",
    "from typing import List\n",
    "from dotenv import load_dotenv\n",
    "from openai import OpenAI\n",
    "import anthropic\n",
    "import gradio as gr\n",
    "from IPython.display import Markdown, display, update_display\n",
    "import json"
   ]
  },
  {
   "cell_type": "markdown",
   "id": "83d971c5-7620-4d9e-a322-59fe1bb8793d",
   "metadata": {},
   "source": [
    "<h1>AIRLINE ASSITANT </h1>"
   ]
  },
  {
   "cell_type": "code",
   "execution_count": 75,
   "id": "87fbc08e-3b79-49f0-a1b3-32df96112a85",
   "metadata": {},
   "outputs": [],
   "source": [
    "system_message = \"You are a helpful assistant for an Airline called FlightAI. \"\n",
    "system_message += \"Give short, courteous answers, no more than 1 sentence. \"\n",
    "system_message += \"Always be accurate. If you don't know the answer, say so.\"\n"
   ]
  },
  {
   "cell_type": "code",
   "execution_count": 76,
   "id": "b45af1ce-6a8a-4a53-95ce-7ef66f70a39f",
   "metadata": {},
   "outputs": [],
   "source": [
    "ticket_prices = {\"london\": \"$799\", \"paris\": \"$899\", \"tokyo\": \"$1400\", \"berlin\": \"$499\"}\n",
    "\n",
    "def get_ticket_price(destination_city):\n",
    "    print(f\"Tool get_ticket_price called for {destination_city}\")\n",
    "    city = destination_city.lower()\n",
    "    return ticket_prices.get(city, \"Unknown\")\n"
   ]
  },
  {
   "cell_type": "code",
   "execution_count": 77,
   "id": "a93b3e6b-2af4-4b9c-8978-c2de650c271f",
   "metadata": {},
   "outputs": [
    {
     "name": "stdout",
     "output_type": "stream",
     "text": [
      "Tool get_ticket_price called for Berlin\n"
     ]
    },
    {
     "data": {
      "text/plain": [
       "'$499'"
      ]
     },
     "execution_count": 77,
     "metadata": {},
     "output_type": "execute_result"
    }
   ],
   "source": [
    "get_ticket_price(\"Berlin\")"
   ]
  },
  {
   "cell_type": "code",
   "execution_count": 23,
   "id": "c1163035-e593-4e1c-b1f1-566b918e4070",
   "metadata": {},
   "outputs": [],
   "source": [
    "# price_function = {\n",
    "#     \"name\": \"get_ticket_price\",\n",
    "#     \"description\": \"Get the price of a return ticket to the destination city. Call this whenever you need to know the ticket price, for example when a customer asks 'How much is a ticket to this city'\",\n",
    "#     \"parameters\": {\n",
    "#         \"type\": \"object\",\n",
    "#         \"properties\": {\n",
    "#             \"destination_city\": {\n",
    "#                 \"type\": \"string\",\n",
    "#                 \"description\": \"The city that the customer wants to travel to\",\n",
    "#             },\n",
    "#         },\n",
    "#         \"required\": [\"destination_city\"],\n",
    "#         \"additionalProperties\": False\n",
    "#     }\n",
    "# }"
   ]
  },
  {
   "cell_type": "code",
   "execution_count": 79,
   "id": "227a3cf1-f6be-4ca1-9419-407988abf4b2",
   "metadata": {},
   "outputs": [],
   "source": [
    "price_function = {\n",
    "    \"name\": \"get_ticket_price\",\n",
    "    \"description\": \"Get the price of a return ticket to the destination city. Call this whenever a customer asks for a ticket price.\",\n",
    "    \"input_schema\": {\n",
    "        \"type\": \"object\",\n",
    "        \"properties\": {\n",
    "            \"destination_city\": {\n",
    "                \"type\": \"string\",\n",
    "                \"description\": \"The city that the customer wants to travel to\"\n",
    "            }\n",
    "        },\n",
    "        \"required\": [\"destination_city\"],\n",
    "        \"additionalProperties\": False\n",
    "    }\n",
    "}"
   ]
  },
  {
   "cell_type": "code",
   "execution_count": 80,
   "id": "9fde07ef-b0d8-4ad8-982d-24dfee38f821",
   "metadata": {},
   "outputs": [],
   "source": [
    "tools = [price_function]"
   ]
  },
  {
   "cell_type": "markdown",
   "id": "de1d71eb-aa36-4970-b542-8193d65fa44a",
   "metadata": {},
   "source": [
    "<h1>LET ANTHROPIC TO USE OUR TOOL </h1>"
   ]
  },
  {
   "cell_type": "code",
   "execution_count": 85,
   "id": "b2cbee45-d0a9-483c-94ca-fa73d9f05426",
   "metadata": {},
   "outputs": [],
   "source": [
    "load_dotenv()\n",
    "api_key = os.getenv(\"ANTHROPIC_API_KEY\")\n",
    "if not api_key:\n",
    "    raise RuntimeError(\"Missing ANTHROPIC_API_KEY in .env\")\n",
    "\n",
    "from anthropic import Anthropic\n",
    "client = Anthropic(api_key=api_key)\n",
    "MODEL = \"claude-sonnet-4-20250514\""
   ]
  },
  {
   "cell_type": "code",
   "execution_count": 99,
   "id": "f5ae3904-6832-42a1-a85e-e602abeaa958",
   "metadata": {},
   "outputs": [],
   "source": [
    "def chat(message, history):\n",
    "    anthro_messages = []\n",
    "    for m in history:\n",
    "         \n",
    "         if m[\"role\"] in (\"user\", \"assistant\"):\n",
    "             \n",
    "             anthro_messages.append({\n",
    "                \"role\": m[\"role\"],\n",
    "                \"content\": [{\"type\": \"text\", \"text\": m[\"content\"]}]\n",
    "            })\n",
    "                \n",
    "   \n",
    "     \n",
    "\n",
    "   \n",
    "    anthro_messages.append({\"role\": \"user\", \"content\": [{\"type\": \"text\", \"text\": message}]})\n",
    "\n",
    "\n",
    "   \n",
    "    response = client.messages.create(\n",
    "        model=MODEL,\n",
    "        max_tokens=500,\n",
    "        system=system_message,\n",
    "        tools=tools,\n",
    "        messages=anthro_messages\n",
    "    )\n",
    "\n",
    "    tool_results = []\n",
    "    for block in response.content:\n",
    "        if block.type == \"tool_use\":\n",
    "            tool_name = block.name\n",
    "            tool_args = block.input\n",
    "            tool_id = block.id\n",
    "            # Execute the local tool\n",
    "            result = get_ticket_price(tool_args[\"destination_city\"])\n",
    "            # Prepare tool_result to send back\n",
    "            tool_results.append({\n",
    "                \"tool_use_id\": tool_id,\n",
    "                \"content\": json.dumps({\"destination_city\": tool_args[\"destination_city\"], \"price\": result})\n",
    "            })\n",
    "\n",
    "   \n",
    "    if not tool_results:\n",
    "        \n",
    "        return response.content[0].text\n",
    "\n",
    "    # Step 2: send tool results back so Claude can finish\n",
    "    followup = client.messages.create(\n",
    "        model=MODEL,\n",
    "        max_tokens=500,\n",
    "        system=system_message,\n",
    "        tools=tools,\n",
    "        messages=[\n",
    "            *anthro_messages,\n",
    "            {\"role\": \"assistant\", \"content\": response.content},\n",
    "            {\"role\": \"user\", \"content\": [\n",
    "                {\"type\": \"tool_result\", \"tool_use_id\": tr[\"tool_use_id\"], \"content\": tr[\"content\"]}\n",
    "                for tr in tool_results\n",
    "            ]}\n",
    "        ]\n",
    "    )\n",
    "\n",
    "    final_text = \"\".join(b.text for b in followup.content if b.type == \"text\")\n",
    "    return final_text\n",
    "\n",
    "\n",
    "\n",
    "\n"
   ]
  },
  {
   "cell_type": "code",
   "execution_count": 104,
   "id": "f127f635-4424-4129-9c8d-6b6014f05165",
   "metadata": {},
   "outputs": [
    {
     "name": "stdout",
     "output_type": "stream",
     "text": [
      "* Running on local URL:  http://127.0.0.1:7883\n",
      "* Running on public URL: https://6ea7abcad164270221.gradio.live\n",
      "\n",
      "This share link expires in 1 week. For free permanent hosting and GPU upgrades, run `gradio deploy` from the terminal in the working directory to deploy to Hugging Face Spaces (https://huggingface.co/spaces)\n"
     ]
    },
    {
     "data": {
      "text/html": [
       "<div><iframe src=\"https://6ea7abcad164270221.gradio.live\" width=\"100%\" height=\"500\" allow=\"autoplay; camera; microphone; clipboard-read; clipboard-write;\" frameborder=\"0\" allowfullscreen></iframe></div>"
      ],
      "text/plain": [
       "<IPython.core.display.HTML object>"
      ]
     },
     "metadata": {},
     "output_type": "display_data"
    },
    {
     "data": {
      "text/plain": []
     },
     "execution_count": 104,
     "metadata": {},
     "output_type": "execute_result"
    },
    {
     "name": "stdout",
     "output_type": "stream",
     "text": [
      "Tool get_ticket_price called for Berlin\n"
     ]
    }
   ],
   "source": [
    "gr.ChatInterface(fn=chat, type=\"messages\").launch(share = True)"
   ]
  },
  {
   "cell_type": "markdown",
   "id": "ef28cdb5-32aa-459f-8900-5ee1b1b8903b",
   "metadata": {},
   "source": [
    "<h1>Let OLLAMA TO USE TOOL </h1>"
   ]
  },
  {
   "cell_type": "code",
   "execution_count": 101,
   "id": "526bac43-7c64-4ded-b286-49bbe3a31d62",
   "metadata": {},
   "outputs": [],
   "source": [
    "def chat_ollama(message, history):\n",
    "    messages = (\n",
    "        [{\"role\": \"system\", \"content\": system_message}]\n",
    "        + history\n",
    "        + [{\"role\": \"user\", \"content\": message}]\n",
    "    )\n",
    "\n",
    "    resp = req.post(\n",
    "        \"http://localhost:11434/api/chat\",\n",
    "        json={\n",
    "            \"model\": \"llama3\",\n",
    "            \"messages\": messages,\n",
    "            \"stream\": False\n",
    "        }\n",
    "    )\n",
    "\n",
    "    data = resp.json()\n",
    "    reply = data[\"message\"][\"content\"] \n",
    "    # Check for tool call\n",
    "    if \"tool_calls\" in data[\"message\"] and len(data[\"message\"][\"tool_calls\"]) > 0:\n",
    "        tool_response, city = handle_tool_call_ollama(data[\"message\"])\n",
    "        messages.append(data[\"message\"])  \n",
    "        messages.append(tool_response)   \n",
    "        \n",
    "        resp2 = req.post(\n",
    "            \"http://localhost:11434/api/chat\",\n",
    "            json={\n",
    "                \"model\": \"llama3\",\n",
    "                \"messages\": messages,\n",
    "                \"stream\": False\n",
    "            }\n",
    "        )\n",
    "        data2 = resp2.json()\n",
    "        reply = data2[\"message\"][\"content\"]\n",
    "    \n",
    "    return reply"
   ]
  },
  {
   "cell_type": "code",
   "execution_count": 102,
   "id": "8e3b1f79-cea8-4edd-abd4-f1bae1566611",
   "metadata": {},
   "outputs": [],
   "source": [
    "def handle_tool_call(message):\n",
    "    tool_call = message[\"tool_calls\"][0]\n",
    "    arguments = json.loads(tool_call[\"function\"][\"arguments\"])\n",
    "    city = arguments.get(\"destination_city\")\n",
    "    price = get_ticket_price(city)  # your function to fetch price\n",
    "    response = {\n",
    "        \"role\": \"tool\",\n",
    "        \"content\": json.dumps({\"destination_city\": city, \"price\": price}),\n",
    "        \"tool_call_id\": tool_call[\"id\"]\n",
    "    }\n",
    "    return response, city"
   ]
  },
  {
   "cell_type": "code",
   "execution_count": 103,
   "id": "aa7a6656-bb3e-417b-97bc-43c8b9319ac0",
   "metadata": {},
   "outputs": [
    {
     "name": "stdout",
     "output_type": "stream",
     "text": [
      "* Running on local URL:  http://127.0.0.1:7882\n",
      "* To create a public link, set `share=True` in `launch()`.\n"
     ]
    },
    {
     "data": {
      "text/html": [
       "<div><iframe src=\"http://127.0.0.1:7882/\" width=\"100%\" height=\"500\" allow=\"autoplay; camera; microphone; clipboard-read; clipboard-write;\" frameborder=\"0\" allowfullscreen></iframe></div>"
      ],
      "text/plain": [
       "<IPython.core.display.HTML object>"
      ]
     },
     "metadata": {},
     "output_type": "display_data"
    },
    {
     "data": {
      "text/plain": []
     },
     "execution_count": 103,
     "metadata": {},
     "output_type": "execute_result"
    },
    {
     "name": "stdout",
     "output_type": "stream",
     "text": [
      "Tool get_ticket_price called for Berlin\n"
     ]
    }
   ],
   "source": [
    "gr.ChatInterface(fn=chat, type=\"messages\").launch()"
   ]
  },
  {
   "cell_type": "code",
   "execution_count": null,
   "id": "2b34bf97-7558-4680-9cbb-452ae3bada76",
   "metadata": {},
   "outputs": [],
   "source": []
  }
 ],
 "metadata": {
  "kernelspec": {
   "display_name": "Python 3 (ipykernel)",
   "language": "python",
   "name": "python3"
  },
  "language_info": {
   "codemirror_mode": {
    "name": "ipython",
    "version": 3
   },
   "file_extension": ".py",
   "mimetype": "text/x-python",
   "name": "python",
   "nbconvert_exporter": "python",
   "pygments_lexer": "ipython3",
   "version": "3.12.3"
  }
 },
 "nbformat": 4,
 "nbformat_minor": 5
}
