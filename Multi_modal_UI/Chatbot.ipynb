{
 "cells": [
  {
   "cell_type": "code",
   "execution_count": 1,
   "id": "d4f6e5de-4231-42be-9cd1-fd8e7457153a",
   "metadata": {},
   "outputs": [],
   "source": [
    "import os\n",
    "import requests as req\n",
    "from bs4 import BeautifulSoup\n",
    "from typing import List\n",
    "from dotenv import load_dotenv\n",
    "from openai import OpenAI\n",
    "import anthropic\n",
    "import gradio as gr\n",
    "from IPython.display import Markdown, display, update_display"
   ]
  },
  {
   "cell_type": "markdown",
   "id": "cfc434fc-a8c5-469c-89e3-7fc81687a597",
   "metadata": {},
   "source": [
    "<h1>BUILDING UP A CHATBOT</h1>"
   ]
  },
  {
   "cell_type": "code",
   "execution_count": 2,
   "id": "66eb3978-42d4-4f1b-8a5e-efa4935bd2f0",
   "metadata": {},
   "outputs": [],
   "source": [
    "system_message = \"you are an helpful assistant\"\n"
   ]
  },
  {
   "cell_type": "code",
   "execution_count": 3,
   "id": "41ad3ef8-12ff-4bb4-8f25-e6a51ae1b661",
   "metadata": {},
   "outputs": [],
   "source": [
    "# system_message+=\"you are handling the business of green roots that for the hairall solution and strenghting\\\n",
    "# and moisture the hair, which make them grow fast\""
   ]
  },
  {
   "cell_type": "code",
   "execution_count": 4,
   "id": "ec6762bd-e2e4-42af-b07d-ea673408a45d",
   "metadata": {},
   "outputs": [],
   "source": [
    "load_dotenv()\n",
    "api_key = os.getenv(\"ANTHROPIC_API_KEY\")\n",
    "if not api_key:\n",
    "    raise RuntimeError(\"Missing ANTHROPIC_API_KEY in .env\")\n",
    "\n",
    "from anthropic import Anthropic\n",
    "client = Anthropic(api_key=api_key)\n",
    "Model = \"claude-sonnet-4-20250514\""
   ]
  },
  {
   "cell_type": "code",
   "execution_count": 5,
   "id": "8cd74149-ce97-45d7-b9a0-0407fce4b1f2",
   "metadata": {},
   "outputs": [],
   "source": [
    "def chat(message, history):\n",
    "    \n",
    "    claude_history = []\n",
    "    for m in history:\n",
    "        if m[\"role\"] in [\"user\", \"assistant\"]:  \n",
    "            claude_history.append({\n",
    "                \"role\": m[\"role\"],\n",
    "                \"content\": [{\"type\": \"text\", \"text\": m[\"content\"]}]\n",
    "            })\n",
    "\n",
    "   \n",
    "    claude_history.append({\n",
    "        \"role\": \"user\",\n",
    "        \"content\": [{\"type\": \"text\", \"text\": message}]\n",
    "    })\n",
    "\n",
    "    \n",
    "    response = client.messages.create(\n",
    "        model=Model,\n",
    "        max_tokens=500,\n",
    "        system=system_message,  \n",
    "        messages=claude_history\n",
    "    )\n",
    "\n",
    "    return response.content[0].text\n"
   ]
  },
  {
   "cell_type": "code",
   "execution_count": 6,
   "id": "1b3b818a-a15e-4245-9f1d-25a3836f2dc7",
   "metadata": {},
   "outputs": [
    {
     "name": "stdout",
     "output_type": "stream",
     "text": [
      "* Running on local URL:  http://127.0.0.1:7860\n",
      "* Running on public URL: https://0a0a5522c433958398.gradio.live\n",
      "\n",
      "This share link expires in 1 week. For free permanent hosting and GPU upgrades, run `gradio deploy` from the terminal in the working directory to deploy to Hugging Face Spaces (https://huggingface.co/spaces)\n"
     ]
    },
    {
     "data": {
      "text/html": [
       "<div><iframe src=\"https://0a0a5522c433958398.gradio.live\" width=\"100%\" height=\"500\" allow=\"autoplay; camera; microphone; clipboard-read; clipboard-write;\" frameborder=\"0\" allowfullscreen></iframe></div>"
      ],
      "text/plain": [
       "<IPython.core.display.HTML object>"
      ]
     },
     "metadata": {},
     "output_type": "display_data"
    },
    {
     "data": {
      "text/plain": []
     },
     "execution_count": 6,
     "metadata": {},
     "output_type": "execute_result"
    }
   ],
   "source": [
    "gr.ChatInterface(fn=chat, type=\"messages\").launch(share=True)"
   ]
  },
  {
   "cell_type": "code",
   "execution_count": 8,
   "id": "4dccd64a-259d-4d6a-bac2-3ffca6d3a809",
   "metadata": {},
   "outputs": [],
   "source": [
    "def chat_ollama(message, history):\n",
    "    messages = (\n",
    "        [{\"role\": \"system\", \"content\": system_message}]   # wrap system in a list\n",
    "        + history                                         # history is already a list of {role, content}\n",
    "        + [{\"role\": \"user\", \"content\": message}]          # wrap current user message in a list\n",
    "    )\n",
    "\n",
    "    resp = req.post(\n",
    "        \"http://localhost:11434/api/chat\",\n",
    "        json={\n",
    "            \"model\": \"llama3\",\n",
    "            \"messages\": messages,\n",
    "            \"stream\": False\n",
    "        }\n",
    "    )\n",
    "    data = resp.json()\n",
    "    return data[\"message\"][\"content\"]\n"
   ]
  },
  {
   "cell_type": "code",
   "execution_count": 9,
   "id": "59ec94a7-1b64-497e-9890-ea19061511c1",
   "metadata": {},
   "outputs": [
    {
     "name": "stdout",
     "output_type": "stream",
     "text": [
      "* Running on local URL:  http://127.0.0.1:7862\n",
      "* To create a public link, set `share=True` in `launch()`.\n"
     ]
    },
    {
     "data": {
      "text/html": [
       "<div><iframe src=\"http://127.0.0.1:7862/\" width=\"100%\" height=\"500\" allow=\"autoplay; camera; microphone; clipboard-read; clipboard-write;\" frameborder=\"0\" allowfullscreen></iframe></div>"
      ],
      "text/plain": [
       "<IPython.core.display.HTML object>"
      ]
     },
     "metadata": {},
     "output_type": "display_data"
    },
    {
     "data": {
      "text/plain": []
     },
     "execution_count": 9,
     "metadata": {},
     "output_type": "execute_result"
    }
   ],
   "source": [
    "gr.ChatInterface(fn=chat_ollama, type=\"messages\").launch()"
   ]
  },
  {
   "cell_type": "code",
   "execution_count": null,
   "id": "1c126a89-5bcb-4199-be3b-03f9c8191565",
   "metadata": {},
   "outputs": [],
   "source": []
  }
 ],
 "metadata": {
  "kernelspec": {
   "display_name": "Python 3 (ipykernel)",
   "language": "python",
   "name": "python3"
  },
  "language_info": {
   "codemirror_mode": {
    "name": "ipython",
    "version": 3
   },
   "file_extension": ".py",
   "mimetype": "text/x-python",
   "name": "python",
   "nbconvert_exporter": "python",
   "pygments_lexer": "ipython3",
   "version": "3.12.3"
  }
 },
 "nbformat": 4,
 "nbformat_minor": 5
}
