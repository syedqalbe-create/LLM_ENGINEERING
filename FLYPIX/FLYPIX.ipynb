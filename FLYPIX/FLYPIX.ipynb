{
 "cells": [
  {
   "cell_type": "code",
   "execution_count": 19,
   "id": "b0c43acc-119d-432c-b0f3-a16353c139ee",
   "metadata": {},
   "outputs": [],
   "source": [
    "import os\n",
    "import requests\n",
    "from anthropic import Anthropic\n",
    "import gradio as gr\n",
    "from IPython.display import Markdown, display, update_display\n",
    "from dotenv import load_dotenv\n",
    "from amadeus import Client, ResponseError\n",
    "import json\n",
    "import gradio as gr"
   ]
  },
  {
   "cell_type": "code",
   "execution_count": 20,
   "id": "a2c880b0-46f5-4489-9852-bf23a0c418b6",
   "metadata": {},
   "outputs": [
    {
     "name": "stdout",
     "output_type": "stream",
     "text": [
      "Requirement already satisfied: amadeus in /home/inzi/.venv/lib/python3.12/site-packages (12.0.0)\n"
     ]
    }
   ],
   "source": [
    "!pip install amadeus\n"
   ]
  },
  {
   "cell_type": "code",
   "execution_count": 21,
   "id": "8b559d57-dc70-48b5-96c0-830af7dd08d2",
   "metadata": {},
   "outputs": [
    {
     "name": "stdout",
     "output_type": "stream",
     "text": [
      "LsU7soKkUrxDeftYJbZ1zCwGwG5zcOXj AOKqNXU2IEPTaRO5\n"
     ]
    }
   ],
   "source": [
    "load_dotenv()\n",
    "amnd_api = os.getenv(\"AMADEUS_CLIENT_ID\")\n",
    "amnd_secret = os.getenv(\"AMADEUS_CLIENT_SECRET\")\n",
    "print(amnd_api,amnd_secret)\n"
   ]
  },
  {
   "cell_type": "code",
   "execution_count": 22,
   "id": "a2dc99e9-8293-42c6-8b74-11ee90128e13",
   "metadata": {},
   "outputs": [],
   "source": [
    "load_dotenv()\n",
    "api_key = os.getenv(\"ANTHROPIC_API_KEY\")\n",
    "if not api_key:\n",
    "    raise RuntimeError(\"Missing ANTHROPIC_API_KEY in .env\")\n",
    "\n",
    "from anthropic import Anthropic\n",
    "client = Anthropic(api_key=api_key)\n",
    "MODEL = \"claude-sonnet-4-20250514\""
   ]
  },
  {
   "cell_type": "code",
   "execution_count": 23,
   "id": "8c36b630-e3aa-49e1-b3cb-4404ef184e6a",
   "metadata": {
    "scrolled": true
   },
   "outputs": [
    {
     "name": "stdout",
     "output_type": "stream",
     "text": [
      "here is the 5 choice for you: \n",
      "|---------|------|----|-----------|---------|-------|\n",
      " Route: LHE -->  --> DXB , Airline:PK, Departure:2025-11-05T09:10:00, Arrival:2025-11-05T11:30:00, Duration:PT3H20M, Price:152.98\n",
      " Route: LHE -->  --> KHI , Airline:PK, Departure:2025-11-05T17:00:00, Arrival:2025-11-05T18:45:00, Duration:PT1H45M, Price:153.04\n",
      " Route: LHE -->  --> KHI , Airline:PK, Departure:2025-11-05T11:00:00, Arrival:2025-11-05T12:45:00, Duration:PT1H45M, Price:153.04\n",
      " Route: LHE -->  --> KHI , Airline:PK, Departure:2025-11-05T17:00:00, Arrival:2025-11-05T18:45:00, Duration:PT1H45M, Price:285.52\n",
      " Route: LHE -->  --> KHI , Airline:PK, Departure:2025-11-05T17:00:00, Arrival:2025-11-05T18:45:00, Duration:PT1H45M, Price:285.52\n",
      "\n"
     ]
    }
   ],
   "source": [
    "amadeus = Client(\n",
    "    client_id=amnd_api,\n",
    "    client_secret=amnd_secret\n",
    ")\n",
    "\n",
    "def get_price(city1, city2, date=\"2025-11-05\"):\n",
    "    try:\n",
    "        response = amadeus.shopping.flight_offers_search.get(\n",
    "            originLocationCode=city1,\n",
    "            destinationLocationCode=city2,\n",
    "            departureDate=date,\n",
    "            adults=1\n",
    "        )\n",
    "\n",
    "        offers = response.data\n",
    "\n",
    "        \n",
    "        markdown = \"here is the 5 choice for you: \\n\"\n",
    "        markdown += \"|---------|------|----|-----------|---------|-------|\\n\"\n",
    "\n",
    "        for offer in offers[:5]:  \n",
    "            price = offer[\"price\"][\"total\"] \n",
    "            \n",
    "            itinerary = offer[\"itineraries\"][0][\"segments\"][0]\n",
    "\n",
    "            airline = itinerary[\"carrierCode\"]\n",
    "            origin = itinerary[\"departure\"][\"iataCode\"]\n",
    "            destination = itinerary[\"arrival\"][\"iataCode\"]\n",
    "            dep_time = itinerary[\"departure\"][\"at\"]\n",
    "            arr_time = itinerary[\"arrival\"][\"at\"]\n",
    "            \n",
    "            duration = itinerary[\"duration\"]\n",
    "\n",
    "            markdown += f\" Route: {origin} -->  --> {destination} , Airline:{airline}, Departure:{dep_time}, Arrival:{arr_time}, Duration:{duration}, Price:{price}\\n\"\n",
    "\n",
    "        return markdown\n",
    "\n",
    "    except ResponseError as error:\n",
    "        return f\"API Error: {error}\"\n",
    "\n",
    "\n",
    "\n",
    "print(get_price(\"LHE\", \"DXB\"))\n",
    "    "
   ]
  },
  {
   "cell_type": "code",
   "execution_count": 30,
   "id": "d66df797-47a8-4262-a19b-3ac43bc6813a",
   "metadata": {},
   "outputs": [],
   "source": [
    "from amadeus import Client, ResponseError\n",
    "\n",
    "amadeus = Client(\n",
    "    client_id=amnd_api,\n",
    "    client_secret=amnd_secret\n",
    ")\n",
    "\n",
    "def details(cityA, cityB, date):\n",
    "    try:\n",
    "        response = amadeus.shopping.flight_offers_search.get(\n",
    "            originLocationCode=cityA,\n",
    "            destinationLocationCode=cityB,\n",
    "            departureDate=date,\n",
    "            adults=1\n",
    "        )\n",
    "\n",
    "        offers = response.data\n",
    "        if not offers:  \n",
    "            return [{\n",
    "                \"price\": \"500.00\",\n",
    "                \"note\": \"Demo price shown (Amadeus sandbox doesn’t support this route/date).\",\n",
    "                \"flights\": [{\n",
    "                    \"direction\": \"outbound\",\n",
    "                    \"airline\": \"XX\",\n",
    "                    \"origin\": cityA,\n",
    "                    \"destination\": cityB,\n",
    "                    \"departure\": f\"{date}T09:00:00\",\n",
    "                    \"arrival\": f\"{date}T12:00:00\",\n",
    "                    \"duration\": \"PT3H\"\n",
    "                }]\n",
    "            }]\n",
    "\n",
    "        results = []\n",
    "        for offer in offers[:5]:  \n",
    "            price = offer[\"price\"][\"total\"]\n",
    "            offer_info = {\"price\": price, \"flights\": []}\n",
    "\n",
    "            for idx, itinerary in enumerate(offer[\"itineraries\"]):\n",
    "                direction = \"outbound\" if idx == 0 else \"return\"\n",
    "                for segment in itinerary[\"segments\"]:\n",
    "                    airline = segment[\"carrierCode\"]\n",
    "                    origin = segment[\"departure\"][\"iataCode\"]\n",
    "                    destination = segment[\"arrival\"][\"iataCode\"]\n",
    "                    dep_time = segment[\"departure\"][\"at\"]\n",
    "                    arr_time = segment[\"arrival\"][\"at\"]\n",
    "                    duration = segment[\"duration\"]\n",
    "\n",
    "                    offer_info[\"flights\"].append({\n",
    "                        \"direction\": direction,\n",
    "                        \"airline\": airline,\n",
    "                        \"origin\": origin,\n",
    "                        \"destination\": destination,\n",
    "                        \"departure\": dep_time,\n",
    "                        \"arrival\": arr_time,\n",
    "                        \"duration\": duration\n",
    "                    })\n",
    "\n",
    "            results.append(offer_info)\n",
    "\n",
    "        return results\n",
    "\n",
    "    except ResponseError as error:\n",
    "        \n",
    "        return [{\n",
    "            \"price\": \"N/A\",\n",
    "            \"note\": f\"Amadeus API error: {str(error)}\",\n",
    "            \"flights\": []\n",
    "        }]\n"
   ]
  },
  {
   "cell_type": "code",
   "execution_count": 31,
   "id": "ff0d6b39-cee0-4de1-bb27-66fa6d1ffa2c",
   "metadata": {},
   "outputs": [],
   "source": [
    "real_time = {\n",
    "    \"name\":\"details\",\n",
    "    \"description\":\"Provides flight offer details including outbound and return segments: price, airline, origin, destination, departure time, arrival time, and duration.\",\n",
    "    \n",
    "    \"input_schema\":{\n",
    "        \"type\":\"object\",\n",
    "        \"properties\":{\n",
    "            \"cityA\":{\n",
    "                \"type\":\"string\",\n",
    "                \"description\":\"the origin city\"\n",
    "            },\n",
    "\n",
    "            \n",
    "            \"cityB\":{\n",
    "                \"type\":\"string\",\n",
    "                \"description\":\"the city where customer wants to travel\"\n",
    "            },\n",
    "\n",
    "            \"date\":{\n",
    "                \"type\":\"string\",\n",
    "                \"description\":\"the date which customer wants to travel for\"\n",
    "            }\n",
    "        },\n",
    "\n",
    "        \"required\": [\"cityA\",\"cityB\",\"date\"],\n",
    "        \"additionalProperties\": False\n",
    "    }\n",
    "}\n",
    "\n",
    "tools = [real_time]"
   ]
  },
  {
   "cell_type": "code",
   "execution_count": 28,
   "id": "ddedc89c-bd62-4d97-b549-58b50462ba6f",
   "metadata": {},
   "outputs": [
    {
     "name": "stdout",
     "output_type": "stream",
     "text": [
      "Requirement already satisfied: transformers in /home/inzi/.venv/lib/python3.12/site-packages (4.56.2)\n",
      "Requirement already satisfied: filelock in /home/inzi/.venv/lib/python3.12/site-packages (from transformers) (3.19.1)\n",
      "Requirement already satisfied: huggingface-hub<1.0,>=0.34.0 in /home/inzi/.venv/lib/python3.12/site-packages (from transformers) (0.34.4)\n",
      "Requirement already satisfied: numpy>=1.17 in /home/inzi/.venv/lib/python3.12/site-packages (from transformers) (2.1.1)\n",
      "Requirement already satisfied: packaging>=20.0 in /home/inzi/.venv/lib/python3.12/site-packages (from transformers) (24.1)\n",
      "Requirement already satisfied: pyyaml>=5.1 in /home/inzi/.venv/lib/python3.12/site-packages (from transformers) (6.0.2)\n",
      "Requirement already satisfied: regex!=2019.12.17 in /home/inzi/.venv/lib/python3.12/site-packages (from transformers) (2025.9.18)\n",
      "Requirement already satisfied: requests in /home/inzi/.venv/lib/python3.12/site-packages (from transformers) (2.32.3)\n",
      "Requirement already satisfied: tokenizers<=0.23.0,>=0.22.0 in /home/inzi/.venv/lib/python3.12/site-packages (from transformers) (0.22.1)\n",
      "Requirement already satisfied: safetensors>=0.4.3 in /home/inzi/.venv/lib/python3.12/site-packages (from transformers) (0.6.2)\n",
      "Requirement already satisfied: tqdm>=4.27 in /home/inzi/.venv/lib/python3.12/site-packages (from transformers) (4.67.1)\n",
      "Requirement already satisfied: fsspec>=2023.5.0 in /home/inzi/.venv/lib/python3.12/site-packages (from huggingface-hub<1.0,>=0.34.0->transformers) (2025.7.0)\n",
      "Requirement already satisfied: typing-extensions>=3.7.4.3 in /home/inzi/.venv/lib/python3.12/site-packages (from huggingface-hub<1.0,>=0.34.0->transformers) (4.12.2)\n",
      "Requirement already satisfied: hf-xet<2.0.0,>=1.1.3 in /home/inzi/.venv/lib/python3.12/site-packages (from huggingface-hub<1.0,>=0.34.0->transformers) (1.1.8)\n",
      "Requirement already satisfied: charset-normalizer<4,>=2 in /home/inzi/.venv/lib/python3.12/site-packages (from requests->transformers) (3.3.2)\n",
      "Requirement already satisfied: idna<4,>=2.5 in /home/inzi/.venv/lib/python3.12/site-packages (from requests->transformers) (3.10)\n",
      "Requirement already satisfied: urllib3<3,>=1.21.1 in /home/inzi/.venv/lib/python3.12/site-packages (from requests->transformers) (2.2.3)\n",
      "Requirement already satisfied: certifi>=2017.4.17 in /home/inzi/.venv/lib/python3.12/site-packages (from requests->transformers) (2024.8.30)\n"
     ]
    }
   ],
   "source": [
    "\n",
    "!pip install transformers\n"
   ]
  },
  {
   "cell_type": "code",
   "execution_count": 29,
   "id": "a099c94a-1f69-4578-9fe4-baa2a74f0b22",
   "metadata": {
    "scrolled": true
   },
   "outputs": [
    {
     "name": "stdout",
     "output_type": "stream",
     "text": [
      "Looking in indexes: https://download.pytorch.org/whl/cpu\n",
      "Requirement already satisfied: torch in /home/inzi/.venv/lib/python3.12/site-packages (2.8.0+cpu)\n",
      "Requirement already satisfied: torchvision in /home/inzi/.venv/lib/python3.12/site-packages (0.23.0+cpu)\n",
      "Requirement already satisfied: torchaudio in /home/inzi/.venv/lib/python3.12/site-packages (2.8.0+cpu)\n",
      "Requirement already satisfied: filelock in /home/inzi/.venv/lib/python3.12/site-packages (from torch) (3.19.1)\n",
      "Requirement already satisfied: typing-extensions>=4.10.0 in /home/inzi/.venv/lib/python3.12/site-packages (from torch) (4.12.2)\n",
      "Requirement already satisfied: setuptools in /home/inzi/.venv/lib/python3.12/site-packages (from torch) (75.1.0)\n",
      "Requirement already satisfied: sympy>=1.13.3 in /home/inzi/.venv/lib/python3.12/site-packages (from torch) (1.13.3)\n",
      "Requirement already satisfied: networkx in /home/inzi/.venv/lib/python3.12/site-packages (from torch) (3.4.2)\n",
      "Requirement already satisfied: jinja2 in /home/inzi/.venv/lib/python3.12/site-packages (from torch) (3.1.4)\n",
      "Requirement already satisfied: fsspec in /home/inzi/.venv/lib/python3.12/site-packages (from torch) (2025.7.0)\n",
      "Requirement already satisfied: numpy in /home/inzi/.venv/lib/python3.12/site-packages (from torchvision) (2.1.1)\n",
      "Requirement already satisfied: pillow!=8.3.*,>=5.3.0 in /home/inzi/.venv/lib/python3.12/site-packages (from torchvision) (10.4.0)\n",
      "Requirement already satisfied: mpmath<1.4,>=1.1.0 in /home/inzi/.venv/lib/python3.12/site-packages (from sympy>=1.13.3->torch) (1.3.0)\n",
      "Requirement already satisfied: MarkupSafe>=2.0 in /home/inzi/.venv/lib/python3.12/site-packages (from jinja2->torch) (2.1.5)\n"
     ]
    }
   ],
   "source": [
    "!pip install torch torchvision torchaudio --index-url https://download.pytorch.org/whl/cpu\n"
   ]
  },
  {
   "cell_type": "code",
   "execution_count": 3,
   "id": "94d40ea6-f3a0-4958-a49e-2d376487794f",
   "metadata": {
    "scrolled": true
   },
   "outputs": [
    {
     "name": "stdout",
     "output_type": "stream",
     "text": [
      "Requirement already satisfied: diffusers in /home/inzi/.venv/lib/python3.12/site-packages (0.35.1)\n",
      "Requirement already satisfied: transformers in /home/inzi/.venv/lib/python3.12/site-packages (4.56.2)\n",
      "Requirement already satisfied: accelerate in /home/inzi/.venv/lib/python3.12/site-packages (1.10.1)\n",
      "Requirement already satisfied: safetensors in /home/inzi/.venv/lib/python3.12/site-packages (0.6.2)\n",
      "Requirement already satisfied: importlib_metadata in /home/inzi/.venv/lib/python3.12/site-packages (from diffusers) (8.7.0)\n",
      "Requirement already satisfied: filelock in /home/inzi/.venv/lib/python3.12/site-packages (from diffusers) (3.19.1)\n",
      "Requirement already satisfied: huggingface-hub>=0.34.0 in /home/inzi/.venv/lib/python3.12/site-packages (from diffusers) (0.34.4)\n",
      "Requirement already satisfied: numpy in /home/inzi/.venv/lib/python3.12/site-packages (from diffusers) (2.1.1)\n",
      "Requirement already satisfied: regex!=2019.12.17 in /home/inzi/.venv/lib/python3.12/site-packages (from diffusers) (2025.9.18)\n",
      "Requirement already satisfied: requests in /home/inzi/.venv/lib/python3.12/site-packages (from diffusers) (2.32.3)\n",
      "Requirement already satisfied: Pillow in /home/inzi/.venv/lib/python3.12/site-packages (from diffusers) (10.4.0)\n",
      "Requirement already satisfied: packaging>=20.0 in /home/inzi/.venv/lib/python3.12/site-packages (from transformers) (24.1)\n",
      "Requirement already satisfied: pyyaml>=5.1 in /home/inzi/.venv/lib/python3.12/site-packages (from transformers) (6.0.2)\n",
      "Requirement already satisfied: tokenizers<=0.23.0,>=0.22.0 in /home/inzi/.venv/lib/python3.12/site-packages (from transformers) (0.22.1)\n",
      "Requirement already satisfied: tqdm>=4.27 in /home/inzi/.venv/lib/python3.12/site-packages (from transformers) (4.67.1)\n",
      "Requirement already satisfied: psutil in /home/inzi/.venv/lib/python3.12/site-packages (from accelerate) (6.0.0)\n",
      "Requirement already satisfied: torch>=2.0.0 in /home/inzi/.venv/lib/python3.12/site-packages (from accelerate) (2.8.0+cpu)\n",
      "Requirement already satisfied: fsspec>=2023.5.0 in /home/inzi/.venv/lib/python3.12/site-packages (from huggingface-hub>=0.34.0->diffusers) (2025.7.0)\n",
      "Requirement already satisfied: typing-extensions>=3.7.4.3 in /home/inzi/.venv/lib/python3.12/site-packages (from huggingface-hub>=0.34.0->diffusers) (4.12.2)\n",
      "Requirement already satisfied: hf-xet<2.0.0,>=1.1.3 in /home/inzi/.venv/lib/python3.12/site-packages (from huggingface-hub>=0.34.0->diffusers) (1.1.8)\n",
      "Requirement already satisfied: setuptools in /home/inzi/.venv/lib/python3.12/site-packages (from torch>=2.0.0->accelerate) (75.1.0)\n",
      "Requirement already satisfied: sympy>=1.13.3 in /home/inzi/.venv/lib/python3.12/site-packages (from torch>=2.0.0->accelerate) (1.13.3)\n",
      "Requirement already satisfied: networkx in /home/inzi/.venv/lib/python3.12/site-packages (from torch>=2.0.0->accelerate) (3.4.2)\n",
      "Requirement already satisfied: jinja2 in /home/inzi/.venv/lib/python3.12/site-packages (from torch>=2.0.0->accelerate) (3.1.4)\n",
      "Requirement already satisfied: zipp>=3.20 in /home/inzi/.venv/lib/python3.12/site-packages (from importlib_metadata->diffusers) (3.23.0)\n",
      "Requirement already satisfied: charset-normalizer<4,>=2 in /home/inzi/.venv/lib/python3.12/site-packages (from requests->diffusers) (3.3.2)\n",
      "Requirement already satisfied: idna<4,>=2.5 in /home/inzi/.venv/lib/python3.12/site-packages (from requests->diffusers) (3.10)\n",
      "Requirement already satisfied: urllib3<3,>=1.21.1 in /home/inzi/.venv/lib/python3.12/site-packages (from requests->diffusers) (2.2.3)\n",
      "Requirement already satisfied: certifi>=2017.4.17 in /home/inzi/.venv/lib/python3.12/site-packages (from requests->diffusers) (2024.8.30)\n",
      "Requirement already satisfied: mpmath<1.4,>=1.1.0 in /home/inzi/.venv/lib/python3.12/site-packages (from sympy>=1.13.3->torch>=2.0.0->accelerate) (1.3.0)\n",
      "Requirement already satisfied: MarkupSafe>=2.0 in /home/inzi/.venv/lib/python3.12/site-packages (from jinja2->torch>=2.0.0->accelerate) (2.1.5)\n"
     ]
    },
    {
     "data": {
      "application/vnd.jupyter.widget-view+json": {
       "model_id": "fe13169594fa4fc88eda671e1f5519cf",
       "version_major": 2,
       "version_minor": 0
      },
      "text/plain": [
       "model_index.json:   0%|          | 0.00/541 [00:00<?, ?B/s]"
      ]
     },
     "metadata": {},
     "output_type": "display_data"
    },
    {
     "data": {
      "application/vnd.jupyter.widget-view+json": {
       "model_id": "ac926810cde44cd788a87d6774f63b72",
       "version_major": 2,
       "version_minor": 0
      },
      "text/plain": [
       "Fetching 15 files:   0%|          | 0/15 [00:00<?, ?it/s]"
      ]
     },
     "metadata": {},
     "output_type": "display_data"
    },
    {
     "data": {
      "application/vnd.jupyter.widget-view+json": {
       "model_id": "8f77a3c59f4e42329aa7a3fc8377fb37",
       "version_major": 2,
       "version_minor": 0
      },
      "text/plain": [
       "scheduler_config.json:   0%|          | 0.00/308 [00:00<?, ?B/s]"
      ]
     },
     "metadata": {},
     "output_type": "display_data"
    },
    {
     "data": {
      "application/vnd.jupyter.widget-view+json": {
       "model_id": "d13d73a08c144d0bb4e9d1054184cc7f",
       "version_major": 2,
       "version_minor": 0
      },
      "text/plain": [
       "config.json:   0%|          | 0.00/617 [00:00<?, ?B/s]"
      ]
     },
     "metadata": {},
     "output_type": "display_data"
    },
    {
     "data": {
      "application/vnd.jupyter.widget-view+json": {
       "model_id": "0d064b5c4ade441f8ca18e743934cd47",
       "version_major": 2,
       "version_minor": 0
      },
      "text/plain": [
       "special_tokens_map.json:   0%|          | 0.00/472 [00:00<?, ?B/s]"
      ]
     },
     "metadata": {},
     "output_type": "display_data"
    },
    {
     "data": {
      "application/vnd.jupyter.widget-view+json": {
       "model_id": "c13df79858de4a5fa47a0746d52ceb6f",
       "version_major": 2,
       "version_minor": 0
      },
      "text/plain": [
       "merges.txt: 0.00B [00:00, ?B/s]"
      ]
     },
     "metadata": {},
     "output_type": "display_data"
    },
    {
     "data": {
      "application/vnd.jupyter.widget-view+json": {
       "model_id": "c3b01979507c43a699ff7b6760a8b329",
       "version_major": 2,
       "version_minor": 0
      },
      "text/plain": [
       "preprocessor_config.json:   0%|          | 0.00/342 [00:00<?, ?B/s]"
      ]
     },
     "metadata": {},
     "output_type": "display_data"
    },
    {
     "data": {
      "application/vnd.jupyter.widget-view+json": {
       "model_id": "bd6e593a30db48c8b78204b84dcb2b13",
       "version_major": 2,
       "version_minor": 0
      },
      "text/plain": [
       "safety_checker/model.safetensors:   0%|          | 0.00/1.22G [00:00<?, ?B/s]"
      ]
     },
     "metadata": {},
     "output_type": "display_data"
    },
    {
     "data": {
      "application/vnd.jupyter.widget-view+json": {
       "model_id": "2fd9382222c54168b054a32c68ed1906",
       "version_major": 2,
       "version_minor": 0
      },
      "text/plain": [
       "tokenizer_config.json:   0%|          | 0.00/806 [00:00<?, ?B/s]"
      ]
     },
     "metadata": {},
     "output_type": "display_data"
    },
    {
     "data": {
      "application/vnd.jupyter.widget-view+json": {
       "model_id": "ade414ab569a4dd9af5dd0e497009023",
       "version_major": 2,
       "version_minor": 0
      },
      "text/plain": [
       "vocab.json: 0.00B [00:00, ?B/s]"
      ]
     },
     "metadata": {},
     "output_type": "display_data"
    },
    {
     "data": {
      "application/vnd.jupyter.widget-view+json": {
       "model_id": "6edd25ed845c4a38a0d04e29e5edb4a0",
       "version_major": 2,
       "version_minor": 0
      },
      "text/plain": [
       "config.json:   0%|          | 0.00/743 [00:00<?, ?B/s]"
      ]
     },
     "metadata": {},
     "output_type": "display_data"
    },
    {
     "data": {
      "application/vnd.jupyter.widget-view+json": {
       "model_id": "cbc27a3af921435a97cce8fb3239e133",
       "version_major": 2,
       "version_minor": 0
      },
      "text/plain": [
       "config.json:   0%|          | 0.00/547 [00:00<?, ?B/s]"
      ]
     },
     "metadata": {},
     "output_type": "display_data"
    },
    {
     "data": {
      "application/vnd.jupyter.widget-view+json": {
       "model_id": "c9baa459b5c44ca8b960c2cd4565614d",
       "version_major": 2,
       "version_minor": 0
      },
      "text/plain": [
       "unet/diffusion_pytorch_model.safetensors:   0%|          | 0.00/3.44G [00:00<?, ?B/s]"
      ]
     },
     "metadata": {},
     "output_type": "display_data"
    },
    {
     "data": {
      "application/vnd.jupyter.widget-view+json": {
       "model_id": "0ce81f68f84f4bc18ffbae29eaf7fc2d",
       "version_major": 2,
       "version_minor": 0
      },
      "text/plain": [
       "vae/diffusion_pytorch_model.safetensors:   0%|          | 0.00/335M [00:00<?, ?B/s]"
      ]
     },
     "metadata": {},
     "output_type": "display_data"
    },
    {
     "data": {
      "application/vnd.jupyter.widget-view+json": {
       "model_id": "b24c78efd5d84ca8ba524caf766d9eb7",
       "version_major": 2,
       "version_minor": 0
      },
      "text/plain": [
       "text_encoder/model.safetensors:   0%|          | 0.00/492M [00:00<?, ?B/s]"
      ]
     },
     "metadata": {},
     "output_type": "display_data"
    },
    {
     "data": {
      "application/vnd.jupyter.widget-view+json": {
       "model_id": "9cca324f405d4d989b99d323abf54014",
       "version_major": 2,
       "version_minor": 0
      },
      "text/plain": [
       "config.json: 0.00B [00:00, ?B/s]"
      ]
     },
     "metadata": {},
     "output_type": "display_data"
    },
    {
     "data": {
      "application/vnd.jupyter.widget-view+json": {
       "model_id": "64056fe14f694f2eb4f2f1992c040316",
       "version_major": 2,
       "version_minor": 0
      },
      "text/plain": [
       "Loading pipeline components...:   0%|          | 0/7 [00:00<?, ?it/s]"
      ]
     },
     "metadata": {},
     "output_type": "display_data"
    },
    {
     "name": "stderr",
     "output_type": "stream",
     "text": [
      "`torch_dtype` is deprecated! Use `dtype` instead!\n"
     ]
    },
    {
     "data": {
      "application/vnd.jupyter.widget-view+json": {
       "model_id": "c5e75d4ea1424b32bab923acec9fb4f8",
       "version_major": 2,
       "version_minor": 0
      },
      "text/plain": [
       "  0%|          | 0/50 [00:00<?, ?it/s]"
      ]
     },
     "metadata": {},
     "output_type": "display_data"
    }
   ],
   "source": [
    "!pip install diffusers transformers accelerate safetensors\n",
    "\n",
    "import torch\n",
    "from diffusers import StableDiffusionPipeline\n",
    "\n",
    "# pick one: \"runwayml/stable-diffusion-v1-5\" or \"stabilityai/stable-diffusion-2-1\"\n",
    "model_id = \"runwayml/stable-diffusion-v1-5\"\n",
    "\n",
    "pipe = StableDiffusionPipeline.from_pretrained(model_id, torch_dtype=torch.float32)\n",
    "pipe = pipe.to(\"cpu\")   # force CPU since no GPU\n",
    "\n",
    "prompt = \"Beautiful view of Paris with Eiffel Tower, cinematic photography\"\n",
    "\n",
    "image = pipe(prompt).images[0]\n",
    "image.save(\"paris.png\")\n"
   ]
  },
  {
   "cell_type": "code",
   "execution_count": 26,
   "id": "42ce76d1-d35d-41e6-b330-f52f5937bffa",
   "metadata": {},
   "outputs": [],
   "source": [
    "def image_generation(city):\n",
    "    model_id = \"runwayml/stable-diffusion-v1-5\"\n",
    "    pipe = StableDiffusionPipeline.from_pretrained(model_id, torch_dtype=torch.float32)\n",
    "    pipe = pipe.to(\"cpu\")  \n",
    "    # I use pipe.to('cpu'), because I dont have GPU\n",
    "    prompt = f\"Give the beautiful view of unqiue or famous icon that represent the {city}\"\n",
    "    image = pipe(prompt).images[0]\n",
    "    "
   ]
  },
  {
   "cell_type": "code",
   "execution_count": 27,
   "id": "644ec864-6bb2-490d-94da-2f25ad3a3b14",
   "metadata": {},
   "outputs": [],
   "source": [
    "system_message = \"You are a helpful assistant for an Airline called FlightAI. \"\n",
    "system_message += \"Give short, courteous answers, no more than 1 sentence. \"\n",
    "system_message += \"Always be accurate. If you don't know the answer, say so.\"\n"
   ]
  },
  {
   "cell_type": "code",
   "execution_count": 32,
   "id": "5593688e-2789-4c63-8df9-2a2ed8c2f4f5",
   "metadata": {},
   "outputs": [],
   "source": [
    "def chat(history):\n",
    "    if history is None:   \n",
    "        history = []\n",
    "\n",
    "    if not history:\n",
    "        return history, None\n",
    "\n",
    "    message = history[-1][\"content\"]\n",
    "\n",
    "    anthro_messages = []\n",
    "    for m in history:\n",
    "        if m[\"role\"] in (\"user\", \"assistant\"):\n",
    "            anthro_messages.append({\n",
    "                \"role\": m[\"role\"],\n",
    "                \"content\": [{\"type\": \"text\", \"text\": m[\"content\"]}]\n",
    "            })\n",
    "\n",
    "    anthro_messages.append({\"role\": \"user\", \"content\": [{\"type\": \"text\", \"text\": message}]})\n",
    "\n",
    "    response = client.messages.create(\n",
    "        model=MODEL,\n",
    "        max_tokens=500,\n",
    "        system=system_message,\n",
    "        tools=tools,\n",
    "        messages=anthro_messages\n",
    "    )\n",
    "\n",
    "    tool_results = []\n",
    "    image = None  \n",
    "    for block in response.content:\n",
    "        if block.type == \"tool_use\":\n",
    "            tool_name = block.name\n",
    "            tool_args = block.input\n",
    "            tool_id = block.id\n",
    "            \n",
    "            result = details(tool_args[\"cityA\"], tool_args[\"cityB\"], tool_args[\"date\"])\n",
    "\n",
    "            image = image_generation(tool_args[\"cityB\"])\n",
    "            tool_results.append({\n",
    "                \"tool_use_id\": tool_id,\n",
    "                \"content\": json.dumps({\n",
    "                    \"origin_city\": tool_args[\"cityA\"],\n",
    "                    \"destination_city\": tool_args[\"cityB\"],\n",
    "                    \"travel_date\": tool_args[\"date\"],\n",
    "                    \"price\": result\n",
    "                })\n",
    "            })\n",
    "\n",
    "    if not tool_results:\n",
    "        \n",
    "        history += [{\"role\": \"assistant\", \"content\": response.content[0].text}]\n",
    "        return history, None\n",
    "    \n",
    "    followup = client.messages.create(\n",
    "        model=MODEL,\n",
    "        max_tokens=500,\n",
    "        system=system_message,\n",
    "        tools=tools,\n",
    "        messages=[\n",
    "            *anthro_messages,\n",
    "            {\"role\": \"assistant\", \"content\": response.content},\n",
    "            {\"role\": \"user\", \"content\": [\n",
    "                {\"type\": \"tool_result\", \"tool_use_id\": tr[\"tool_use_id\"], \"content\": tr[\"content\"]}\n",
    "                for tr in tool_results\n",
    "            ]}\n",
    "        ]\n",
    "    )\n",
    "\n",
    "    final_text = \"\".join(b.text for b in followup.content if b.type == \"text\")\n",
    "    history += [{\"role\": \"assistant\", \"content\": final_text}]\n",
    "    return history, image\n"
   ]
  },
  {
   "cell_type": "code",
   "execution_count": 33,
   "id": "dadda3de-84af-4821-8093-855d52a5a9e7",
   "metadata": {},
   "outputs": [
    {
     "name": "stdout",
     "output_type": "stream",
     "text": [
      "* Running on local URL:  http://127.0.0.1:7865\n",
      "* To create a public link, set `share=True` in `launch()`.\n"
     ]
    },
    {
     "data": {
      "text/html": [
       "<div><iframe src=\"http://127.0.0.1:7865/\" width=\"100%\" height=\"500\" allow=\"autoplay; camera; microphone; clipboard-read; clipboard-write;\" frameborder=\"0\" allowfullscreen></iframe></div>"
      ],
      "text/plain": [
       "<IPython.core.display.HTML object>"
      ]
     },
     "metadata": {},
     "output_type": "display_data"
    },
    {
     "data": {
      "text/plain": []
     },
     "execution_count": 33,
     "metadata": {},
     "output_type": "execute_result"
    },
    {
     "data": {
      "application/vnd.jupyter.widget-view+json": {
       "model_id": "57a4100430124b74bb06136dea2e34c1",
       "version_major": 2,
       "version_minor": 0
      },
      "text/plain": [
       "Loading pipeline components...:   0%|          | 0/7 [00:00<?, ?it/s]"
      ]
     },
     "metadata": {},
     "output_type": "display_data"
    },
    {
     "data": {
      "application/vnd.jupyter.widget-view+json": {
       "model_id": "9d50c811ecbc4c22938d96f72ba6b84c",
       "version_major": 2,
       "version_minor": 0
      },
      "text/plain": [
       "  0%|          | 0/50 [00:00<?, ?it/s]"
      ]
     },
     "metadata": {},
     "output_type": "display_data"
    }
   ],
   "source": [
    "with gr.Blocks() as ui:\n",
    "    with gr.Row():\n",
    "        chatbot = gr.Chatbot(height=500, type=\"messages\")\n",
    "        image_output = gr.Image(height=500)\n",
    "    with gr.Row():\n",
    "        entry = gr.Textbox(label=\"Chat with our AI Assistant:\")\n",
    "    with gr.Row():\n",
    "        clear = gr.Button(\"Clear\")\n",
    "\n",
    "    def do_entry(message, history):\n",
    "        if history is None:\n",
    "            history = []\n",
    "        history += [{\"role\": \"user\", \"content\": message}]\n",
    "        return \"\", history\n",
    "\n",
    "    entry.submit(\n",
    "        do_entry, \n",
    "        inputs=[entry, chatbot], \n",
    "        outputs=[entry, chatbot]\n",
    "    ).then(\n",
    "        chat, \n",
    "        inputs=[chatbot], \n",
    "        outputs=[chatbot, image_output]\n",
    "    )\n",
    "\n",
    "    clear.click(lambda: ([], None), inputs=None, outputs=[chatbot, image_output], queue=False)\n",
    "\n",
    "ui.launch(inbrowser=True)"
   ]
  },
  {
   "cell_type": "code",
   "execution_count": null,
   "id": "b614560e-635a-49b5-a830-cb2e7531b6c6",
   "metadata": {},
   "outputs": [],
   "source": []
  }
 ],
 "metadata": {
  "kernelspec": {
   "display_name": "Python 3 (ipykernel)",
   "language": "python",
   "name": "python3"
  },
  "language_info": {
   "codemirror_mode": {
    "name": "ipython",
    "version": 3
   },
   "file_extension": ".py",
   "mimetype": "text/x-python",
   "name": "python",
   "nbconvert_exporter": "python",
   "pygments_lexer": "ipython3",
   "version": "3.12.3"
  }
 },
 "nbformat": 4,
 "nbformat_minor": 5
}
