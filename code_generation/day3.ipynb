{
 "cells": [
  {
   "cell_type": "code",
   "execution_count": 1,
   "id": "38d676fa-01cb-4f3b-958c-f3ae568e3259",
   "metadata": {},
   "outputs": [],
   "source": [
    "import os\n",
    "import io\n",
    "import sys\n",
    "from dotenv import load_dotenv\n",
    "from openai import OpenAI\n",
    "\n",
    "import anthropic\n",
    "from IPython.display import Markdown, display, update_display\n",
    "import gradio as gr\n",
    "import subprocess\n"
   ]
  },
  {
   "cell_type": "code",
   "execution_count": 2,
   "id": "bb917fce-e0f3-424e-90ce-76cb79e76e1f",
   "metadata": {},
   "outputs": [],
   "source": [
    "load_dotenv()\n",
    "api_key = os.getenv(\"ANTHROPIC_API_KEY\")\n",
    "if not api_key:\n",
    "    raise RuntimeError(\"Missing ANTHROPIC_API_KEY in .env\")\n",
    "from anthropic import Anthropic\n",
    "client = Anthropic(api_key=api_key)\n",
    "MODEL = \"claude-sonnet-4-20250514\""
   ]
  },
  {
   "cell_type": "code",
   "execution_count": 3,
   "id": "6ca791b1-c3ae-46ad-808c-498816f192de",
   "metadata": {},
   "outputs": [],
   "source": [
    "system_message = \"You are an assistant that reimplements Python code in high performance C++ for an M1 Mac. \"\n",
    "system_message += \"Respond only with C++ code; use comments sparingly and do not provide any explanation other than occasional comments. \"\n",
    "system_message += \"The C++ response needs to produce an identical output in the fastest possible time.\""
   ]
  },
  {
   "cell_type": "code",
   "execution_count": 4,
   "id": "d7234245-c4eb-49fe-82ae-ced47082f7a8",
   "metadata": {},
   "outputs": [],
   "source": [
    "def user_prompt_for(python):\n",
    "    user_prompt = \"Rewrite this Python code in C++ with the fastest possible implementation that produces identical output in the least time. \"\n",
    "    user_prompt += \"Respond only with C++ code; do not explain your work other than a few comments. \"\n",
    "    user_prompt += \"Pay attention to number types to ensure no int overflows. Remember to #include all necessary C++ packages such as iomanip.\\n\\n\"\n",
    "    user_prompt += python\n",
    "    return user_prompt\n",
    "\n"
   ]
  },
  {
   "cell_type": "code",
   "execution_count": 5,
   "id": "42445079-adee-4fc4-8b42-c637e2957728",
   "metadata": {},
   "outputs": [],
   "source": [
    "def messages_for(python):\n",
    "    return [\n",
    "        {\"role\": \"system\", \"content\": system_message},\n",
    "        {\"role\": \"user\", \"content\": user_prompt_for(python)}\n",
    "    ]"
   ]
  },
  {
   "cell_type": "code",
   "execution_count": 6,
   "id": "65a69f63-c957-48e1-ab47-cddbdbc7ea91",
   "metadata": {},
   "outputs": [],
   "source": [
    "def write_output(cpp):\n",
    "    code = cpp.replace(\"```cpp\",\"\").replace(\"```\",\"\")\n",
    "    with open(\"optimized.cpp\", \"w\") as f:\n",
    "        f.write(code)\n"
   ]
  },
  {
   "cell_type": "code",
   "execution_count": 11,
   "id": "6a6ff885-9ca0-4e1d-a258-1501af6df1bf",
   "metadata": {},
   "outputs": [],
   "source": [
    "def optimize_claude(python):\n",
    "    result = client.messages.stream(\n",
    "        model=MODEL,\n",
    "        max_tokens=2000,\n",
    "        system=system_message,\n",
    "        messages=[{\"role\": \"user\", \"content\": user_prompt_for(python)}],\n",
    "    )\n",
    "    reply = \"\"\n",
    "    with result as stream:\n",
    "        for text in stream.text_stream:\n",
    "            reply += text\n",
    "            print(text, end=\"\", flush=True)\n",
    "    write_output(reply)\n"
   ]
  },
  {
   "cell_type": "code",
   "execution_count": 12,
   "id": "f394934f-f9a3-477b-b9fd-15c85973eaad",
   "metadata": {},
   "outputs": [],
   "source": [
    "pi = \"\"\"\n",
    "import time\n",
    "\n",
    "def calculate(iterations, param1, param2):\n",
    "    result = 1.0\n",
    "    for i in range(1, iterations+1):\n",
    "        j = i * param1 - param2\n",
    "        result -= (1/j)\n",
    "        j = i * param1 + param2\n",
    "        result += (1/j)\n",
    "    return result\n",
    "\n",
    "start_time = time.time()\n",
    "result = calculate(100_000_000, 4, 1) * 4\n",
    "end_time = time.time()\n",
    "\n",
    "print(f\"Result: {result:.12f}\")\n",
    "print(f\"Execution Time: {(end_time - start_time):.6f} seconds\")\n",
    "\"\"\"\n"
   ]
  },
  {
   "cell_type": "code",
   "execution_count": 9,
   "id": "b76f80b5-06d9-44da-b911-501bb5479fb0",
   "metadata": {},
   "outputs": [
    {
     "name": "stdout",
     "output_type": "stream",
     "text": [
      "Result: 3.141592658589\n",
      "Execution Time: 12.747629 seconds\n"
     ]
    }
   ],
   "source": [
    "\n",
    "\n",
    "exec(pi)\n",
    "\n"
   ]
  },
  {
   "cell_type": "code",
   "execution_count": 13,
   "id": "2247c206-a28e-4c98-b90b-6918fe75112e",
   "metadata": {},
   "outputs": [
    {
     "name": "stdout",
     "output_type": "stream",
     "text": [
      "```cpp\n",
      "#include <iostream>\n",
      "#include <chrono>\n",
      "#include <iomanip>\n",
      "\n",
      "double calculate(long long iterations, long long param1, long long param2) {\n",
      "    double result = 1.0;\n",
      "    for (long long i = 1; i <= iterations; ++i) {\n",
      "        long long j1 = i * param1 - param2;\n",
      "        long long j2 = i * param1 + param2;\n",
      "        result -= 1.0 / j1;\n",
      "        result += 1.0 / j2;\n",
      "    }\n",
      "    return result;\n",
      "}\n",
      "\n",
      "int main() {\n",
      "    auto start = std::chrono::high_resolution_clock::now();\n",
      "    double result = calculate(100000000, 4, 1) * 4;\n",
      "    auto end = std::chrono::high_resolution_clock::now();\n",
      "    \n",
      "    auto duration = std::chrono::duration<double>(end - start);\n",
      "    \n",
      "    std::cout << std::fixed << std::setprecision(12) << \"Result: \" << result << std::endl;\n",
      "    std::cout << std::fixed << std::setprecision(6) << \"Execution Time: \" << duration.count() << \" seconds\" << std::endl;\n",
      "    \n",
      "    return 0;\n",
      "}\n",
      "```"
     ]
    }
   ],
   "source": [
    "optimize_claude(pi)"
   ]
  },
  {
   "cell_type": "code",
   "execution_count": 14,
   "id": "481ee2b8-bf07-4dcf-8a7d-d55676be97a2",
   "metadata": {},
   "outputs": [
    {
     "name": "stdout",
     "output_type": "stream",
     "text": [
      "Result: 3.141592658589\n",
      "Execution Time: 13.242483 seconds\n"
     ]
    }
   ],
   "source": [
    "exec(pi)\n"
   ]
  },
  {
   "cell_type": "code",
   "execution_count": 15,
   "id": "cd11c2ef-210d-45f8-86b6-2086cdca07ac",
   "metadata": {},
   "outputs": [
    {
     "name": "stdout",
     "output_type": "stream",
     "text": [
      "/bin/bash: line 1: clang++: command not found\n",
      "/bin/bash: line 1: ./optimized: No such file or directory\n"
     ]
    }
   ],
   "source": [
    "!clang++ -O3 -std=c++17 -march=armv8.3-a -o optimized optimized.cpp\n",
    "!./optimized"
   ]
  },
  {
   "cell_type": "code",
   "execution_count": 16,
   "id": "9fc37b51-5e77-47f3-944e-3361cd04baa7",
   "metadata": {},
   "outputs": [],
   "source": [
    "python_hard = \"\"\"# Be careful to support large number sizes\n",
    "\n",
    "def lcg(seed, a=1664525, c=1013904223, m=2**32):\n",
    "    value = seed\n",
    "    while True:\n",
    "        value = (a * value + c) % m\n",
    "        yield value\n",
    "        \n",
    "def max_subarray_sum(n, seed, min_val, max_val):\n",
    "    lcg_gen = lcg(seed)\n",
    "    random_numbers = [next(lcg_gen) % (max_val - min_val + 1) + min_val for _ in range(n)]\n",
    "    max_sum = float('-inf')\n",
    "    for i in range(n):\n",
    "        current_sum = 0\n",
    "        for j in range(i, n):\n",
    "            current_sum += random_numbers[j]\n",
    "            if current_sum > max_sum:\n",
    "                max_sum = current_sum\n",
    "    return max_sum\n",
    "\n",
    "def total_max_subarray_sum(n, initial_seed, min_val, max_val):\n",
    "    total_sum = 0\n",
    "    lcg_gen = lcg(initial_seed)\n",
    "    for _ in range(20):\n",
    "        seed = next(lcg_gen)\n",
    "        total_sum += max_subarray_sum(n, seed, min_val, max_val)\n",
    "    return total_sum\n",
    "\n",
    "# Parameters\n",
    "n = 10000         # Number of random numbers\n",
    "initial_seed = 42 # Initial seed for the LCG\n",
    "min_val = -10     # Minimum value of random numbers\n",
    "max_val = 10      # Maximum value of random numbers\n",
    "\n",
    "# Timing the function\n",
    "import time\n",
    "start_time = time.time()\n",
    "result = total_max_subarray_sum(n, initial_seed, min_val, max_val)\n",
    "end_time = time.time()\n",
    "\n",
    "print(\"Total Maximum Subarray Sum (20 runs):\", result)\n",
    "print(\"Execution Time: {:.6f} seconds\".format(end_time - start_time))\n",
    "\"\"\""
   ]
  },
  {
   "cell_type": "code",
   "execution_count": 17,
   "id": "046aa48d-8f5c-4aba-abff-1f2f47c015c4",
   "metadata": {},
   "outputs": [
    {
     "name": "stdout",
     "output_type": "stream",
     "text": [
      "Total Maximum Subarray Sum (20 runs): 10980\n",
      "Execution Time: 48.723485 seconds\n"
     ]
    }
   ],
   "source": [
    "exec(python_hard)"
   ]
  },
  {
   "cell_type": "code",
   "execution_count": 18,
   "id": "b2d686f3-cb25-43c6-9c0b-e149f192da15",
   "metadata": {
    "scrolled": true
   },
   "outputs": [
    {
     "name": "stdout",
     "output_type": "stream",
     "text": [
      "```cpp\n",
      "#include <iostream>\n",
      "#include <vector>\n",
      "#include <algorithm>\n",
      "#include <chrono>\n",
      "#include <iomanip>\n",
      "\n",
      "class LCG {\n",
      "private:\n",
      "    uint64_t value;\n",
      "    static constexpr uint64_t a = 1664525ULL;\n",
      "    static constexpr uint64_t c = 1013904223ULL;\n",
      "    static constexpr uint64_t m = 4294967296ULL; // 2^32\n",
      "\n",
      "public:\n",
      "    LCG(uint64_t seed) : value(seed) {}\n",
      "    \n",
      "    uint64_t next() {\n",
      "        value = (a * value + c) % m;\n",
      "        return value;\n",
      "    }\n",
      "};\n",
      "\n",
      "long long max_subarray_sum(int n, uint64_t seed, int min_val, int max_val) {\n",
      "    LCG lcg_gen(seed);\n",
      "    std::vector<int> random_numbers;\n",
      "    random_numbers.reserve(n);\n",
      "    \n",
      "    int range = max_val - min_val + 1;\n",
      "    for (int i = 0; i < n; ++i) {\n",
      "        random_numbers.push_back(static_cast<int>(lcg_gen.next() % range) + min_val);\n",
      "    }\n",
      "    \n",
      "    long long max_sum = LLONG_MIN;\n",
      "    for (int i = 0; i < n; ++i) {\n",
      "        long long current_sum = 0;\n",
      "        for (int j = i; j < n; ++j) {\n",
      "            current_sum += random_numbers[j];\n",
      "            max_sum = std::max(max_sum, current_sum);\n",
      "        }\n",
      "    }\n",
      "    return max_sum;\n",
      "}\n",
      "\n",
      "long long total_max_subarray_sum(int n, uint64_t initial_seed, int min_val, int max_val) {\n",
      "    long long total_sum = 0;\n",
      "    LCG lcg_gen(initial_seed);\n",
      "    \n",
      "    for (int i = 0; i < 20; ++i) {\n",
      "        uint64_t seed = lcg_gen.next();\n",
      "        total_sum += max_subarray_sum(n, seed, min_val, max_val);\n",
      "    }\n",
      "    return total_sum;\n",
      "}\n",
      "\n",
      "int main() {\n",
      "    int n = 10000;\n",
      "    uint64_t initial_seed = 42;\n",
      "    int min_val = -10;\n",
      "    int max_val = 10;\n",
      "    \n",
      "    auto start_time = std::chrono::high_resolution_clock::now();\n",
      "    long long result = total_max_subarray_sum(n, initial_seed, min_val, max_val);\n",
      "    auto end_time = std::chrono::high_resolution_clock::now();\n",
      "    \n",
      "    auto duration = std::chrono::duration_cast<std::chrono::microseconds>(end_time - start_time);\n",
      "    double execution_time = duration.count() / 1000000.0;\n",
      "    \n",
      "    std::cout << \"Total Maximum Subarray Sum (20 runs): \" << result << std::endl;\n",
      "    std::cout << \"Execution Time: \" << std::fixed << std::setprecision(6) << execution_time << \" seconds\" << std::endl;\n",
      "    \n",
      "    return 0;\n",
      "}\n",
      "```"
     ]
    }
   ],
   "source": [
    "optimize_claude(python_hard)"
   ]
  },
  {
   "cell_type": "code",
   "execution_count": 47,
   "id": "5b835fd5-d11d-4d3f-987c-eb1b10ef22f5",
   "metadata": {},
   "outputs": [
    {
     "name": "stdout",
     "output_type": "stream",
     "text": [
      "* Running on local URL:  http://127.0.0.1:7871\n",
      "* To create a public link, set `share=True` in `launch()`.\n"
     ]
    },
    {
     "data": {
      "text/html": [
       "<div><iframe src=\"http://127.0.0.1:7871/\" width=\"100%\" height=\"500\" allow=\"autoplay; camera; microphone; clipboard-read; clipboard-write;\" frameborder=\"0\" allowfullscreen></iframe></div>"
      ],
      "text/plain": [
       "<IPython.core.display.HTML object>"
      ]
     },
     "metadata": {},
     "output_type": "display_data"
    },
    {
     "name": "stdout",
     "output_type": "stream",
     "text": [
      "```cpp\n",
      "#include <iostream>\n",
      "#include <vector>\n",
      "#include <chrono>\n",
      "#include <iomanip>\n",
      "#include <limits>\n",
      "\n",
      "class LCG {\n",
      "private:\n",
      "    uint64_t value;\n",
      "    static constexpr uint64_t a = 1664525;\n",
      "    static constexpr uint64_t c = 1013904223;\n",
      "    static constexpr uint64_t m = 1ULL << 32;\n",
      "\n",
      "public:\n",
      "    LCG(uint64_t seed) : value(seed) {}\n",
      "    \n",
      "    uint64_t next() {\n",
      "        value = (a * value + c) % m;\n",
      "        return value;\n",
      "    }\n",
      "};\n",
      "\n",
      "long long max_subarray_sum(int n, uint64_t seed, int min_val, int max_val) {\n",
      "    LCG lcg(seed);\n",
      "    int range = max_val - min_val + 1;\n",
      "    \n",
      "    long long max_sum = std::numeric_limits<long long>::min();\n",
      "    long long current_sum = 0;\n",
      "    \n",
      "    for (int i = 0; i < n; i++) {\n",
      "        int val = static_cast<int>(lcg.next() % range) + min_val;\n",
      "        current_sum = std::max(static_cast<long long>(val), current_sum + val);\n",
      "        max_sum = std::max(max_sum, current_sum);\n",
      "    }\n",
      "    \n",
      "    return max_sum;\n",
      "}\n",
      "\n",
      "long long total_max_subarray_sum(int n, uint64_t initial_seed, int min_val, int max_val) {\n",
      "    long long total_sum = 0;\n",
      "    LCG lcg(initial_seed);\n",
      "    \n",
      "    for (int i = 0; i < 20; i++) {\n",
      "        uint64_t seed = lcg.next();\n",
      "        total_sum += max_subarray_sum(n, seed, min_val, max_val);\n",
      "    }\n",
      "    \n",
      "    return total_sum;\n",
      "}\n",
      "\n",
      "int main() {\n",
      "    int n = 10000;\n",
      "    uint64_t initial_seed = 42;\n",
      "    int min_val = -10;\n",
      "    int max_val = 10;\n",
      "    \n",
      "    auto start_time = std::chrono::high_resolution_clock::now();\n",
      "    long long result = total_max_subarray_sum(n, initial_seed, min_val, max_val);\n",
      "    auto end_time = std::chrono::high_resolution_clock::now();\n",
      "    \n",
      "    auto duration = std::chrono::duration_cast<std::chrono::microseconds>(end_time - start_time);\n",
      "    double execution_time = duration.count() / 1000000.0;\n",
      "    \n",
      "    std::cout << \"Total Maximum Subarray Sum (20 runs): \" << result << std::endl;\n",
      "    std::cout << \"Execution Time: \" << std::fixed << std::setprecision(6) << execution_time << \" seconds\" << std::endl;\n",
      "    \n",
      "    return 0;\n",
      "}\n",
      "```"
     ]
    }
   ],
   "source": [
    "with gr.Blocks() as ui :\n",
    "    with gr.Row():\n",
    "        title = gr.Markdown(\"<h1 style='font-family:TimesNewRoman; font-size:32px; color:Green; text-align:center;'> CLAUDE IS HERE </h1>\")\n",
    "    with gr.Row():\n",
    "        python = gr.Textbox(label=\"Python code:\", lines=10, value=python_hard)\n",
    "        cpp = gr.Textbox(label=\"C++ code:\", lines=10)\n",
    "\n",
    "    with gr.Row():\n",
    "        \n",
    "        convert = gr.Button(\"Convert Now\")\n",
    "\n",
    "    convert.click(optimize_claude, inputs=[python], outputs=[cpp])\n",
    "        \n",
    "do = ui.launch()    "
   ]
  },
  {
   "cell_type": "code",
   "execution_count": null,
   "id": "2c88a193-4dac-416e-801f-2fa173253b55",
   "metadata": {},
   "outputs": [],
   "source": []
  },
  {
   "cell_type": "code",
   "execution_count": null,
   "id": "17e97b33-e962-4fe0-9a3b-7c263b49d4ef",
   "metadata": {},
   "outputs": [],
   "source": []
  }
 ],
 "metadata": {
  "kernelspec": {
   "display_name": "Python 3 (ipykernel)",
   "language": "python",
   "name": "python3"
  },
  "language_info": {
   "codemirror_mode": {
    "name": "ipython",
    "version": 3
   },
   "file_extension": ".py",
   "mimetype": "text/x-python",
   "name": "python",
   "nbconvert_exporter": "python",
   "pygments_lexer": "ipython3",
   "version": "3.12.3"
  }
 },
 "nbformat": 4,
 "nbformat_minor": 5
}
